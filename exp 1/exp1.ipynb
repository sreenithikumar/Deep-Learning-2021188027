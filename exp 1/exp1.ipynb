{
 "cells": [
  {
   "cell_type": "code",
   "execution_count": 6,
   "id": "c00c4bfb",
   "metadata": {},
   "outputs": [],
   "source": [
    "import tensorflow as tf"
   ]
  },
  {
   "cell_type": "code",
   "execution_count": 2,
   "id": "d9719151",
   "metadata": {
    "scrolled": true
   },
   "outputs": [
    {
     "name": "stdout",
     "output_type": "stream",
     "text": [
      "tf.Tensor(\n",
      "[[ 1  3  5  7]\n",
      " [ 9 11 13 15]\n",
      " [17 19 21 23]\n",
      " [25 27 29 31]], shape=(4, 4), dtype=int32)\n"
     ]
    }
   ],
   "source": [
    "matrix1 = tf.constant([[1, 3, 5, 7],\n",
    "               [9, 11, 13 , 15],\n",
    "               [17, 19, 21, 23],\n",
    "               [25, 27, 29, 31]])\n",
    "print(matrix1)"
   ]
  },
  {
   "cell_type": "code",
   "execution_count": 3,
   "id": "12f232af",
   "metadata": {},
   "outputs": [
    {
     "name": "stdout",
     "output_type": "stream",
     "text": [
      "tf.Tensor([ 7 15 23 31], shape=(4,), dtype=int32)\n"
     ]
    }
   ],
   "source": [
    "matrixmax = tf.math.reduce_max(matrix1,axis=1)\n",
    "\n",
    "print(matrixmax)"
   ]
  },
  {
   "cell_type": "code",
   "execution_count": 4,
   "id": "efbb6e06",
   "metadata": {},
   "outputs": [
    {
     "name": "stdout",
     "output_type": "stream",
     "text": [
      "tf.Tensor(\n",
      "[[15  9 12]\n",
      " [74 35 49]\n",
      " [90 26 16]], shape=(3, 3), dtype=int32)\n"
     ]
    }
   ],
   "source": [
    "vtr1 =  tf.constant([[2, 5, 1],\n",
    "               [7, 12, 4],\n",
    "               [19, 15, 6]])\n",
    "vtr2 =  tf.constant([[13, 4, 11],\n",
    "               [67, 23, 45],\n",
    "               [71, 11, 10]])\n",
    "\n",
    "vtr3 = vtr1 + vtr2\n",
    "\n",
    "print(vtr3)"
   ]
  },
  {
   "cell_type": "code",
   "execution_count": 5,
   "id": "7d0534de",
   "metadata": {},
   "outputs": [
    {
     "name": "stdout",
     "output_type": "stream",
     "text": [
      "tf.Tensor(\n",
      "[[ 68  35]\n",
      " [ 68  60]\n",
      " [123 154]], shape=(3, 2), dtype=int32)\n"
     ]
    }
   ],
   "source": [
    "vtr4 =  tf.constant([[12, 23],\n",
    "               [34, 45],\n",
    "               [56, 67]])\n",
    "list1 = [[56, 12],[34, 15],[67, 87]]\n",
    "\n",
    "vtr5 = vtr4 + list1 \n",
    "\n",
    "print(vtr5)"
   ]
  }
 ],
 "metadata": {
  "kernelspec": {
   "display_name": "Python 3 (ipykernel)",
   "language": "python",
   "name": "python3"
  },
  "language_info": {
   "codemirror_mode": {
    "name": "ipython",
    "version": 3
   },
   "file_extension": ".py",
   "mimetype": "text/x-python",
   "name": "python",
   "nbconvert_exporter": "python",
   "pygments_lexer": "ipython3",
   "version": "3.7.13"
  }
 },
 "nbformat": 4,
 "nbformat_minor": 5
}
