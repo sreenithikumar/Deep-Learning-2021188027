{
 "cells": [
  {
   "cell_type": "code",
   "execution_count": null,
   "id": "7ca9aaac",
   "metadata": {},
   "outputs": [],
   "source": [
    "import pandas as pd\n",
    "\n",
    "train_df = pd.read_csv('training data.csv')\n",
    "\n",
    "train_df"
   ]
  },
  {
   "cell_type": "code",
   "execution_count": null,
   "id": "85af4216",
   "metadata": {},
   "outputs": [],
   "source": [
    "train_df['label'].value_counts()"
   ]
  },
  {
   "cell_type": "code",
   "execution_count": null,
   "id": "dea8bc04",
   "metadata": {},
   "outputs": [],
   "source": [
    "!wget http://downloads.cs.stanford.edu/nlp/data/glove.6B.zip"
   ]
  },
  {
   "cell_type": "code",
   "execution_count": null,
   "id": "b899c9ba",
   "metadata": {},
   "outputs": [],
   "source": [
    "!unzip glove.6B.zip"
   ]
  },
  {
   "cell_type": "code",
   "execution_count": null,
   "id": "9189b06e",
   "metadata": {},
   "outputs": [],
   "source": [
    "import numpy as np\n",
    "\n",
    "words = dict()\n",
    "\n",
    "def add_to_dict(d, filename):\n",
    "  with open(filename, 'r') as f:\n",
    "    for line in f.readlines():\n",
    "      line = line.split(' ')\n",
    "\n",
    "      try:\n",
    "        d[line[0]] = np.array(line[1:], dtype=float)\n",
    "      except:\n",
    "        continue\n",
    "\n",
    "add_to_dict(words, 'glove.6B.50d.txt')\n",
    "words"
   ]
  },
  {
   "cell_type": "code",
   "execution_count": null,
   "id": "fbd044bc",
   "metadata": {},
   "outputs": [],
   "source": [
    "len(words)"
   ]
  },
  {
   "cell_type": "code",
   "execution_count": null,
   "id": "1feacad6",
   "metadata": {},
   "outputs": [],
   "source": [
    "import nltk\n",
    "\n",
    "nltk.download('wordnet')"
   ]
  },
  {
   "cell_type": "code",
   "execution_count": null,
   "id": "6019bcdc",
   "metadata": {},
   "outputs": [],
   "source": [
    "tokenizer = nltk.RegexpTokenizer(r\"\\w+\")\n",
    "\n",
    "tokenizer.tokenize('@user when a father is dysfunctional and is')"
   ]
  },
  {
   "cell_type": "code",
   "execution_count": null,
   "id": "802a0630",
   "metadata": {},
   "outputs": [],
   "source": [
    " nltk.download()"
   ]
  },
  {
   "cell_type": "code",
   "execution_count": null,
   "id": "51c575dd",
   "metadata": {},
   "outputs": [],
   "source": [
    "from nltk.stem import WordNetLemmatizer\n",
    "\n",
    "lemmatizer = WordNetLemmatizer()\n",
    "\n",
    "lemmatizer.lemmatize('feet')\n",
    "\n",
    "def message_to_token_list(s):\n",
    "  tokens = tokenizer.tokenize(s)\n",
    "  lowercased_tokens = [t.lower() for t in tokens]\n",
    "  lemmatized_tokens = [lemmatizer.lemmatize(t) for t in lowercased_tokens]\n",
    "  useful_tokens = [t for t in lemmatized_tokens if t in words]\n",
    "\n",
    "  return useful_tokens\n",
    "\n",
    "message_to_token_list('@user feet a fathers is dysfunctional and is')"
   ]
  },
  {
   "cell_type": "code",
   "execution_count": null,
   "id": "002e8be4",
   "metadata": {},
   "outputs": [],
   "source": [
    "import nltk\n",
    "nltk.download('omw-1.4')"
   ]
  },
  {
   "cell_type": "code",
   "execution_count": null,
   "id": "83998cdc",
   "metadata": {},
   "outputs": [],
   "source": [
    "def message_to_word_vectors(message, word_dict=words):\n",
    "  processed_list_of_tokens = message_to_token_list(message)\n",
    "\n",
    "  vectors = []\n",
    "\n",
    "  for token in processed_list_of_tokens:\n",
    "    if token not in word_dict:\n",
    "      continue\n",
    "    \n",
    "    token_vector = word_dict[token]\n",
    "    vectors.append(token_vector)\n",
    "  \n",
    "  return np.array(vectors, dtype=float)"
   ]
  },
  {
   "cell_type": "code",
   "execution_count": null,
   "id": "81abbbad",
   "metadata": {},
   "outputs": [],
   "source": [
    "message_to_word_vectors('@user when a father is dysfunctional and is').shape"
   ]
  },
  {
   "cell_type": "code",
   "execution_count": null,
   "id": "ec32b3e4",
   "metadata": {},
   "outputs": [],
   "source": [
    "train_df = train_df.sample(frac=1, random_state=1)\n",
    "train_df.reset_index(drop=True, inplace=True)\n",
    "\n",
    "split_index_1 = int(len(train_df) * 0.7)\n",
    "split_index_2 = int(len(train_df) * 0.85)\n",
    "\n",
    "train_df, val_df, test_df = train_df[:split_index_1], train_df[split_index_1:split_index_2], train_df[split_index_2:]\n",
    "\n",
    "len(train_df), len(val_df), len(test_df)"
   ]
  },
  {
   "cell_type": "code",
   "execution_count": null,
   "id": "b584467e",
   "metadata": {},
   "outputs": [],
   "source": [
    "test_df"
   ]
  },
  {
   "cell_type": "code",
   "execution_count": null,
   "id": "a767366d",
   "metadata": {},
   "outputs": [],
   "source": [
    "def df_to_X_y(dff):\n",
    "  y = dff['label'].to_numpy().astype(int)\n",
    "\n",
    "  all_word_vector_sequences = []\n",
    "\n",
    "  for message in dff['tweet']:\n",
    "    message_as_vector_seq = message_to_word_vectors(message)\n",
    "    \n",
    "    if message_as_vector_seq.shape[0] == 0:\n",
    "      message_as_vector_seq = np.zeros(shape=(1, 50))\n",
    "\n",
    "    all_word_vector_sequences.append(message_as_vector_seq)\n",
    "  \n",
    "  return all_word_vector_sequences, y"
   ]
  },
  {
   "cell_type": "code",
   "execution_count": null,
   "id": "16d236ed",
   "metadata": {},
   "outputs": [],
   "source": [
    "X_train, y_train = df_to_X_y(train_df)\n",
    "\n",
    "print(len(X_train), len(X_train[0]))"
   ]
  },
  {
   "cell_type": "code",
   "execution_count": null,
   "id": "6807be23",
   "metadata": {},
   "outputs": [],
   "source": [
    "print(len(X_train), len(X_train[2]))"
   ]
  },
  {
   "cell_type": "code",
   "execution_count": null,
   "id": "da6b5e10",
   "metadata": {},
   "outputs": [],
   "source": [
    "sequence_lengths = []\n",
    "\n",
    "for i in range(len(X_train)):\n",
    "  sequence_lengths.append(len(X_train[i]))\n",
    "\n",
    "import matplotlib.pyplot as plt\n",
    "\n",
    "plt.hist(sequence_lengths)"
   ]
  },
  {
   "cell_type": "code",
   "execution_count": null,
   "id": "825fb606",
   "metadata": {},
   "outputs": [],
   "source": [
    "pd.Series(sequence_lengths).describe()"
   ]
  },
  {
   "cell_type": "code",
   "execution_count": null,
   "id": "7c1fbd26",
   "metadata": {},
   "outputs": [],
   "source": [
    "from copy import deepcopy\n",
    "\n",
    "def pad_X(X, desired_sequence_length=57):\n",
    "  X_copy = deepcopy(X)\n",
    "\n",
    "  for i, x in enumerate(X):\n",
    "    x_seq_len = x.shape[0]\n",
    "    sequence_length_difference = desired_sequence_length - x_seq_len\n",
    "    \n",
    "    pad = np.zeros(shape=(sequence_length_difference, 50))\n",
    "\n",
    "    X_copy[i] = np.concatenate([x, pad])\n",
    "  \n",
    "  return np.array(X_copy).astype(float)"
   ]
  },
  {
   "cell_type": "code",
   "execution_count": null,
   "id": "0c039abc",
   "metadata": {},
   "outputs": [],
   "source": [
    "X_train = pad_X(X_train)\n",
    "\n",
    "X_train.shape"
   ]
  },
  {
   "cell_type": "code",
   "execution_count": null,
   "id": "f6ac819f",
   "metadata": {},
   "outputs": [],
   "source": [
    "y_train.shape"
   ]
  },
  {
   "cell_type": "code",
   "execution_count": null,
   "id": "bb5a0a45",
   "metadata": {},
   "outputs": [],
   "source": [
    "X_val, y_val = df_to_X_y(val_df)\n",
    "X_val = pad_X(X_val)\n",
    "\n",
    "X_val.shape, y_val.shape"
   ]
  },
  {
   "cell_type": "code",
   "execution_count": null,
   "id": "01fb752a",
   "metadata": {},
   "outputs": [],
   "source": [
    "X_test, y_test = df_to_X_y(test_df)\n",
    "X_test = pad_X(X_test)\n",
    "\n",
    "X_test.shape, y_test.shape"
   ]
  },
  {
   "cell_type": "code",
   "execution_count": null,
   "id": "6118daa3",
   "metadata": {},
   "outputs": [],
   "source": [
    "from tensorflow.keras import layers\n",
    "from tensorflow.keras.models import Sequential\n",
    "\n",
    "model = Sequential([])\n",
    "\n",
    "model.add(layers.Input(shape=(57, 50)))\n",
    "model.add(layers.LSTM(64, return_sequences=True))\n",
    "model.add(layers.Dropout(0.2))\n",
    "model.add(layers.LSTM(64, return_sequences=True))\n",
    "model.add(layers.Dropout(0.2))\n",
    "model.add(layers.LSTM(64, return_sequences=True))\n",
    "model.add(layers.Dropout(0.2))\n",
    "model.add(layers.Flatten())\n",
    "model.add(layers.Dense(1, activation='sigmoid'))"
   ]
  },
  {
   "cell_type": "code",
   "execution_count": null,
   "id": "9f8e200f",
   "metadata": {},
   "outputs": [],
   "source": [
    "model.summary()"
   ]
  },
  {
   "cell_type": "code",
   "execution_count": null,
   "id": "bc7bd094",
   "metadata": {},
   "outputs": [],
   "source": [
    "from tensorflow.keras.losses import BinaryCrossentropy\n",
    "from tensorflow.keras.optimizers import Adam\n",
    "from tensorflow.keras.metrics import AUC\n",
    "from tensorflow.keras.callbacks import ModelCheckpoint\n",
    "\n",
    "cp = ModelCheckpoint('model/', save_best_only=True)\n",
    "\n",
    "model.compile(optimizer=Adam(learning_rate=0.0001), \n",
    "              loss=BinaryCrossentropy(), \n",
    "              metrics=['accuracy', AUC(name='auc')])"
   ]
  },
  {
   "cell_type": "code",
   "execution_count": null,
   "id": "312ad40b",
   "metadata": {},
   "outputs": [],
   "source": [
    "frequencies = pd.value_counts(train_df['label'])\n",
    "\n",
    "frequencies"
   ]
  },
  {
   "cell_type": "code",
   "execution_count": null,
   "id": "2bdfc7fd",
   "metadata": {},
   "outputs": [],
   "source": [
    "weights = {0: frequencies.sum() / frequencies[0], 1: frequencies.sum() / frequencies[1]}\n",
    "weights"
   ]
  },
  {
   "cell_type": "code",
   "execution_count": null,
   "id": "d46e9e84",
   "metadata": {},
   "outputs": [],
   "source": [
    "model.fit(X_train, y_train, validation_data=(X_val, y_val), epochs=20, callbacks=[cp], class_weight=weights)"
   ]
  },
  {
   "cell_type": "code",
   "execution_count": null,
   "id": "1d1358cc",
   "metadata": {},
   "outputs": [],
   "source": [
    "from tensorflow.keras.models import load_model\n",
    "\n",
    "best_model = load_model('model/')"
   ]
  },
  {
   "cell_type": "code",
   "execution_count": null,
   "id": "77ae4645",
   "metadata": {},
   "outputs": [],
   "source": [
    "test_predictions = (best_model.predict(X_test) > 0.5).astype(int)\n",
    "\n",
    "from sklearn.metrics import classification_report\n",
    "\n",
    "print(classification_report(y_test, test_predictions))\n"
   ]
  }
 ],
 "metadata": {
  "kernelspec": {
   "display_name": "Python 3 (ipykernel)",
   "language": "python",
   "name": "python3"
  },
  "language_info": {
   "codemirror_mode": {
    "name": "ipython",
    "version": 3
   },
   "file_extension": ".py",
   "mimetype": "text/x-python",
   "name": "python",
   "nbconvert_exporter": "python",
   "pygments_lexer": "ipython3",
   "version": "3.7.13"
  }
 },
 "nbformat": 4,
 "nbformat_minor": 5
}
