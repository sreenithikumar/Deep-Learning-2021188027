{
 "cells": [
  {
   "cell_type": "code",
   "execution_count": 1,
   "id": "977c52b1",
   "metadata": {},
   "outputs": [
    {
     "name": "stdout",
     "output_type": "stream",
     "text": [
      "Requirement already satisfied: opencv-python in c:\\users\\sreenithi\\anaconda3\\lib\\site-packages (4.6.0.66)\n",
      "Requirement already satisfied: numpy>=1.17.3 in c:\\users\\sreenithi\\anaconda3\\lib\\site-packages (from opencv-python) (1.21.5)\n",
      "Note: you may need to restart the kernel to use updated packages.\n"
     ]
    }
   ],
   "source": [
    "pip install opencv-python"
   ]
  },
  {
   "cell_type": "code",
   "execution_count": 2,
   "id": "161c58e0",
   "metadata": {},
   "outputs": [],
   "source": [
    "import cv2 as cv\n",
    "import numpy as np"
   ]
  },
  {
   "cell_type": "code",
   "execution_count": 3,
   "id": "9ac05256",
   "metadata": {},
   "outputs": [],
   "source": [
    "def bs():\n",
    "    cap = cv.VideoCapture('vtest.avi')\n",
    "\n",
    "    #fgbg = cv.createBackgroundSubtractorMOG2(detectShadows=False)\n",
    "    fgbg = cv.createBackgroundSubtractorKNN(detectShadows=False)\n",
    "\n",
    "    while cap.isOpened():\n",
    "        ret, frame = cap.read()\n",
    "\n",
    "        if frame is None:\n",
    "            break\n",
    "\n",
    "        fgmask = fgbg.apply(frame)\n",
    "\n",
    "        cv.imshow('Frame', frame)\n",
    "        cv.imshow('FG Mask', fgmask)\n",
    "        if cv.waitKey(30) & 0xFF == ord('q'):\n",
    "            break\n",
    "\n",
    "    cap.release()\n",
    "    cv.destroyAllWindows()"
   ]
  },
  {
   "cell_type": "code",
   "execution_count": null,
   "id": "5f34c3ba",
   "metadata": {},
   "outputs": [],
   "source": [
    "bs()"
   ]
  }
 ],
 "metadata": {
  "kernelspec": {
   "display_name": "Python 3 (ipykernel)",
   "language": "python",
   "name": "python3"
  },
  "language_info": {
   "codemirror_mode": {
    "name": "ipython",
    "version": 3
   },
   "file_extension": ".py",
   "mimetype": "text/x-python",
   "name": "python",
   "nbconvert_exporter": "python",
   "pygments_lexer": "ipython3",
   "version": "3.9.12"
  }
 },
 "nbformat": 4,
 "nbformat_minor": 5
}
