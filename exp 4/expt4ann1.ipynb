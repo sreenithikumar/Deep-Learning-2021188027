{
 "cells": [
  {
   "cell_type": "code",
   "execution_count": 1,
   "metadata": {
    "id": "eIxMnnhQ6WF1"
   },
   "outputs": [],
   "source": [
    "import pandas as pd"
   ]
  },
  {
   "cell_type": "code",
   "execution_count": 2,
   "metadata": {
    "id": "bGvbZibg61zP"
   },
   "outputs": [],
   "source": [
    "df = pd.read_csv('housepricedata.csv')"
   ]
  },
  {
   "cell_type": "code",
   "execution_count": 3,
   "metadata": {
    "colab": {
     "base_uri": "https://localhost:8080/",
     "height": 424
    },
    "id": "ax0uPuuD7hd2",
    "outputId": "60beaa6d-88d5-4aff-c9f6-eee5ce768d78"
   },
   "outputs": [
    {
     "data": {
      "text/html": [
       "<div>\n",
       "<style scoped>\n",
       "    .dataframe tbody tr th:only-of-type {\n",
       "        vertical-align: middle;\n",
       "    }\n",
       "\n",
       "    .dataframe tbody tr th {\n",
       "        vertical-align: top;\n",
       "    }\n",
       "\n",
       "    .dataframe thead th {\n",
       "        text-align: right;\n",
       "    }\n",
       "</style>\n",
       "<table border=\"1\" class=\"dataframe\">\n",
       "  <thead>\n",
       "    <tr style=\"text-align: right;\">\n",
       "      <th></th>\n",
       "      <th>LotArea</th>\n",
       "      <th>OverallQual</th>\n",
       "      <th>OverallCond</th>\n",
       "      <th>TotalBsmtSF</th>\n",
       "      <th>FullBath</th>\n",
       "      <th>HalfBath</th>\n",
       "      <th>BedroomAbvGr</th>\n",
       "      <th>TotRmsAbvGrd</th>\n",
       "      <th>Fireplaces</th>\n",
       "      <th>GarageArea</th>\n",
       "      <th>AboveMedianPrice</th>\n",
       "    </tr>\n",
       "  </thead>\n",
       "  <tbody>\n",
       "    <tr>\n",
       "      <th>0</th>\n",
       "      <td>8450</td>\n",
       "      <td>7</td>\n",
       "      <td>5</td>\n",
       "      <td>856</td>\n",
       "      <td>2</td>\n",
       "      <td>1</td>\n",
       "      <td>3</td>\n",
       "      <td>8</td>\n",
       "      <td>0</td>\n",
       "      <td>548</td>\n",
       "      <td>1</td>\n",
       "    </tr>\n",
       "    <tr>\n",
       "      <th>1</th>\n",
       "      <td>9600</td>\n",
       "      <td>6</td>\n",
       "      <td>8</td>\n",
       "      <td>1262</td>\n",
       "      <td>2</td>\n",
       "      <td>0</td>\n",
       "      <td>3</td>\n",
       "      <td>6</td>\n",
       "      <td>1</td>\n",
       "      <td>460</td>\n",
       "      <td>1</td>\n",
       "    </tr>\n",
       "    <tr>\n",
       "      <th>2</th>\n",
       "      <td>11250</td>\n",
       "      <td>7</td>\n",
       "      <td>5</td>\n",
       "      <td>920</td>\n",
       "      <td>2</td>\n",
       "      <td>1</td>\n",
       "      <td>3</td>\n",
       "      <td>6</td>\n",
       "      <td>1</td>\n",
       "      <td>608</td>\n",
       "      <td>1</td>\n",
       "    </tr>\n",
       "    <tr>\n",
       "      <th>3</th>\n",
       "      <td>9550</td>\n",
       "      <td>7</td>\n",
       "      <td>5</td>\n",
       "      <td>756</td>\n",
       "      <td>1</td>\n",
       "      <td>0</td>\n",
       "      <td>3</td>\n",
       "      <td>7</td>\n",
       "      <td>1</td>\n",
       "      <td>642</td>\n",
       "      <td>0</td>\n",
       "    </tr>\n",
       "    <tr>\n",
       "      <th>4</th>\n",
       "      <td>14260</td>\n",
       "      <td>8</td>\n",
       "      <td>5</td>\n",
       "      <td>1145</td>\n",
       "      <td>2</td>\n",
       "      <td>1</td>\n",
       "      <td>4</td>\n",
       "      <td>9</td>\n",
       "      <td>1</td>\n",
       "      <td>836</td>\n",
       "      <td>1</td>\n",
       "    </tr>\n",
       "    <tr>\n",
       "      <th>...</th>\n",
       "      <td>...</td>\n",
       "      <td>...</td>\n",
       "      <td>...</td>\n",
       "      <td>...</td>\n",
       "      <td>...</td>\n",
       "      <td>...</td>\n",
       "      <td>...</td>\n",
       "      <td>...</td>\n",
       "      <td>...</td>\n",
       "      <td>...</td>\n",
       "      <td>...</td>\n",
       "    </tr>\n",
       "    <tr>\n",
       "      <th>1455</th>\n",
       "      <td>7917</td>\n",
       "      <td>6</td>\n",
       "      <td>5</td>\n",
       "      <td>953</td>\n",
       "      <td>2</td>\n",
       "      <td>1</td>\n",
       "      <td>3</td>\n",
       "      <td>7</td>\n",
       "      <td>1</td>\n",
       "      <td>460</td>\n",
       "      <td>1</td>\n",
       "    </tr>\n",
       "    <tr>\n",
       "      <th>1456</th>\n",
       "      <td>13175</td>\n",
       "      <td>6</td>\n",
       "      <td>6</td>\n",
       "      <td>1542</td>\n",
       "      <td>2</td>\n",
       "      <td>0</td>\n",
       "      <td>3</td>\n",
       "      <td>7</td>\n",
       "      <td>2</td>\n",
       "      <td>500</td>\n",
       "      <td>1</td>\n",
       "    </tr>\n",
       "    <tr>\n",
       "      <th>1457</th>\n",
       "      <td>9042</td>\n",
       "      <td>7</td>\n",
       "      <td>9</td>\n",
       "      <td>1152</td>\n",
       "      <td>2</td>\n",
       "      <td>0</td>\n",
       "      <td>4</td>\n",
       "      <td>9</td>\n",
       "      <td>2</td>\n",
       "      <td>252</td>\n",
       "      <td>1</td>\n",
       "    </tr>\n",
       "    <tr>\n",
       "      <th>1458</th>\n",
       "      <td>9717</td>\n",
       "      <td>5</td>\n",
       "      <td>6</td>\n",
       "      <td>1078</td>\n",
       "      <td>1</td>\n",
       "      <td>0</td>\n",
       "      <td>2</td>\n",
       "      <td>5</td>\n",
       "      <td>0</td>\n",
       "      <td>240</td>\n",
       "      <td>0</td>\n",
       "    </tr>\n",
       "    <tr>\n",
       "      <th>1459</th>\n",
       "      <td>9937</td>\n",
       "      <td>5</td>\n",
       "      <td>6</td>\n",
       "      <td>1256</td>\n",
       "      <td>1</td>\n",
       "      <td>1</td>\n",
       "      <td>3</td>\n",
       "      <td>6</td>\n",
       "      <td>0</td>\n",
       "      <td>276</td>\n",
       "      <td>0</td>\n",
       "    </tr>\n",
       "  </tbody>\n",
       "</table>\n",
       "<p>1460 rows × 11 columns</p>\n",
       "</div>"
      ],
      "text/plain": [
       "      LotArea  OverallQual  OverallCond  TotalBsmtSF  FullBath  HalfBath  \\\n",
       "0        8450            7            5          856         2         1   \n",
       "1        9600            6            8         1262         2         0   \n",
       "2       11250            7            5          920         2         1   \n",
       "3        9550            7            5          756         1         0   \n",
       "4       14260            8            5         1145         2         1   \n",
       "...       ...          ...          ...          ...       ...       ...   \n",
       "1455     7917            6            5          953         2         1   \n",
       "1456    13175            6            6         1542         2         0   \n",
       "1457     9042            7            9         1152         2         0   \n",
       "1458     9717            5            6         1078         1         0   \n",
       "1459     9937            5            6         1256         1         1   \n",
       "\n",
       "      BedroomAbvGr  TotRmsAbvGrd  Fireplaces  GarageArea  AboveMedianPrice  \n",
       "0                3             8           0         548                 1  \n",
       "1                3             6           1         460                 1  \n",
       "2                3             6           1         608                 1  \n",
       "3                3             7           1         642                 0  \n",
       "4                4             9           1         836                 1  \n",
       "...            ...           ...         ...         ...               ...  \n",
       "1455             3             7           1         460                 1  \n",
       "1456             3             7           2         500                 1  \n",
       "1457             4             9           2         252                 1  \n",
       "1458             2             5           0         240                 0  \n",
       "1459             3             6           0         276                 0  \n",
       "\n",
       "[1460 rows x 11 columns]"
      ]
     },
     "execution_count": 3,
     "metadata": {},
     "output_type": "execute_result"
    }
   ],
   "source": [
    "df"
   ]
  },
  {
   "cell_type": "code",
   "execution_count": 4,
   "metadata": {
    "id": "0rUmCFWQ7sKN"
   },
   "outputs": [],
   "source": [
    "dataset = df.values"
   ]
  },
  {
   "cell_type": "code",
   "execution_count": 5,
   "metadata": {
    "colab": {
     "base_uri": "https://localhost:8080/"
    },
    "id": "Ho0KOxL97zf1",
    "outputId": "ab59fceb-86a6-4d3b-828c-b452f9cccb89"
   },
   "outputs": [
    {
     "data": {
      "text/plain": [
       "array([[ 8450,     7,     5, ...,     0,   548,     1],\n",
       "       [ 9600,     6,     8, ...,     1,   460,     1],\n",
       "       [11250,     7,     5, ...,     1,   608,     1],\n",
       "       ...,\n",
       "       [ 9042,     7,     9, ...,     2,   252,     1],\n",
       "       [ 9717,     5,     6, ...,     0,   240,     0],\n",
       "       [ 9937,     5,     6, ...,     0,   276,     0]], dtype=int64)"
      ]
     },
     "execution_count": 5,
     "metadata": {},
     "output_type": "execute_result"
    }
   ],
   "source": [
    "dataset"
   ]
  },
  {
   "cell_type": "code",
   "execution_count": 6,
   "metadata": {
    "id": "f_HI7k9q73sI"
   },
   "outputs": [],
   "source": [
    "X = dataset[:,0:10]"
   ]
  },
  {
   "cell_type": "code",
   "execution_count": 7,
   "metadata": {
    "id": "3b3HJoXN77Vw"
   },
   "outputs": [],
   "source": [
    "Y = dataset[:,10]"
   ]
  },
  {
   "cell_type": "code",
   "execution_count": 8,
   "metadata": {
    "id": "BAjY704C7-Rt"
   },
   "outputs": [],
   "source": [
    "from sklearn import preprocessing"
   ]
  },
  {
   "cell_type": "code",
   "execution_count": 9,
   "metadata": {
    "id": "n22Xakig8C5i"
   },
   "outputs": [],
   "source": [
    "min_max_scaler = preprocessing.MinMaxScaler()\n",
    "X_scale = min_max_scaler.fit_transform(X)"
   ]
  },
  {
   "cell_type": "code",
   "execution_count": 10,
   "metadata": {
    "colab": {
     "base_uri": "https://localhost:8080/"
    },
    "id": "Pizhn7xi8IPp",
    "outputId": "62101e62-9d4f-4480-fd6e-aa65a28f433e"
   },
   "outputs": [
    {
     "data": {
      "text/plain": [
       "array([[0.0334198 , 0.66666667, 0.5       , ..., 0.5       , 0.        ,\n",
       "        0.3864598 ],\n",
       "       [0.03879502, 0.55555556, 0.875     , ..., 0.33333333, 0.33333333,\n",
       "        0.32440056],\n",
       "       [0.04650728, 0.66666667, 0.5       , ..., 0.33333333, 0.33333333,\n",
       "        0.42877292],\n",
       "       ...,\n",
       "       [0.03618687, 0.66666667, 1.        , ..., 0.58333333, 0.66666667,\n",
       "        0.17771509],\n",
       "       [0.03934189, 0.44444444, 0.625     , ..., 0.25      , 0.        ,\n",
       "        0.16925247],\n",
       "       [0.04037019, 0.44444444, 0.625     , ..., 0.33333333, 0.        ,\n",
       "        0.19464034]])"
      ]
     },
     "execution_count": 10,
     "metadata": {},
     "output_type": "execute_result"
    }
   ],
   "source": [
    "X_scale"
   ]
  },
  {
   "cell_type": "code",
   "execution_count": 11,
   "metadata": {
    "id": "76j-WojS8Mze"
   },
   "outputs": [],
   "source": [
    "from sklearn.model_selection import train_test_split"
   ]
  },
  {
   "cell_type": "code",
   "execution_count": 12,
   "metadata": {
    "id": "a-nf7uIk8RH8"
   },
   "outputs": [],
   "source": [
    "X_train, X_val_and_test, Y_train, Y_val_and_test = train_test_split(X_scale, Y, test_size=0.3)"
   ]
  },
  {
   "cell_type": "code",
   "execution_count": 13,
   "metadata": {
    "id": "p6f13KEH8brE"
   },
   "outputs": [],
   "source": [
    "\n",
    "X_val, X_test, Y_val, Y_test = train_test_split(X_val_and_test, Y_val_and_test, test_size=0.5)"
   ]
  },
  {
   "cell_type": "code",
   "execution_count": 14,
   "metadata": {
    "colab": {
     "base_uri": "https://localhost:8080/"
    },
    "id": "vUqHG8_08fkL",
    "outputId": "0ff6b657-5c4d-4b7e-9986-249d64f261dd"
   },
   "outputs": [
    {
     "name": "stdout",
     "output_type": "stream",
     "text": [
      "(1022, 10) (219, 10) (219, 10) (1022,) (219,) (219,)\n"
     ]
    }
   ],
   "source": [
    "print(X_train.shape, X_val.shape, X_test.shape, Y_train.shape, Y_val.shape, Y_test.shape)"
   ]
  },
  {
   "cell_type": "code",
   "execution_count": 15,
   "metadata": {
    "id": "qY0Gu05x8lA5"
   },
   "outputs": [],
   "source": [
    "from keras.models import Sequential\n",
    "from keras.layers import Dense"
   ]
  },
  {
   "cell_type": "code",
   "execution_count": 16,
   "metadata": {
    "id": "Q4ZQaIhX8r4C"
   },
   "outputs": [],
   "source": [
    "model = Sequential([\n",
    "    Dense(32, activation='relu', input_shape=(6,)),\n",
    "    Dense(32, activation='relu'),\n",
    "    Dense(1, activation='sigmoid'),\n",
    "])"
   ]
  },
  {
   "cell_type": "code",
   "execution_count": 17,
   "metadata": {
    "id": "dFcISoIy85ev"
   },
   "outputs": [],
   "source": [
    "model.compile(optimizer='sgd',\n",
    "              loss='binary_crossentropy',\n",
    "              metrics=['accuracy'])"
   ]
  },
  {
   "cell_type": "code",
   "execution_count": 19,
   "metadata": {
    "colab": {
     "base_uri": "https://localhost:8080/"
    },
    "id": "DlB00n1O89GP",
    "outputId": "8785a0d4-093d-4b3c-a6a3-d128bcd14f25"
   },
   "outputs": [
    {
     "name": "stdout",
     "output_type": "stream",
     "text": [
      "Epoch 1/10\n"
     ]
    },
    {
     "ename": "ValueError",
     "evalue": "in user code:\n\n    C:\\Users\\SREENITHI\\anaconda3\\envs\\tf_env\\lib\\site-packages\\tensorflow\\python\\keras\\engine\\training.py:806 train_function  *\n        return step_function(self, iterator)\n    C:\\Users\\SREENITHI\\anaconda3\\envs\\tf_env\\lib\\site-packages\\tensorflow\\python\\keras\\engine\\training.py:796 step_function  **\n        outputs = model.distribute_strategy.run(run_step, args=(data,))\n    C:\\Users\\SREENITHI\\anaconda3\\envs\\tf_env\\lib\\site-packages\\tensorflow\\python\\distribute\\distribute_lib.py:1211 run\n        return self._extended.call_for_each_replica(fn, args=args, kwargs=kwargs)\n    C:\\Users\\SREENITHI\\anaconda3\\envs\\tf_env\\lib\\site-packages\\tensorflow\\python\\distribute\\distribute_lib.py:2585 call_for_each_replica\n        return self._call_for_each_replica(fn, args, kwargs)\n    C:\\Users\\SREENITHI\\anaconda3\\envs\\tf_env\\lib\\site-packages\\tensorflow\\python\\distribute\\distribute_lib.py:2945 _call_for_each_replica\n        return fn(*args, **kwargs)\n    C:\\Users\\SREENITHI\\anaconda3\\envs\\tf_env\\lib\\site-packages\\tensorflow\\python\\keras\\engine\\training.py:789 run_step  **\n        outputs = model.train_step(data)\n    C:\\Users\\SREENITHI\\anaconda3\\envs\\tf_env\\lib\\site-packages\\tensorflow\\python\\keras\\engine\\training.py:747 train_step\n        y_pred = self(x, training=True)\n    C:\\Users\\SREENITHI\\anaconda3\\envs\\tf_env\\lib\\site-packages\\tensorflow\\python\\keras\\engine\\base_layer.py:976 __call__\n        self.name)\n    C:\\Users\\SREENITHI\\anaconda3\\envs\\tf_env\\lib\\site-packages\\tensorflow\\python\\keras\\engine\\input_spec.py:216 assert_input_compatibility\n        ' but received input with shape ' + str(shape))\n\n    ValueError: Input 0 of layer sequential is incompatible with the layer: expected axis -1 of input shape to have value 6 but received input with shape [None, 10]\n",
     "output_type": "error",
     "traceback": [
      "\u001b[1;31m---------------------------------------------------------------------------\u001b[0m",
      "\u001b[1;31mValueError\u001b[0m                                Traceback (most recent call last)",
      "\u001b[1;32m~\\AppData\\Local\\Temp\\ipykernel_13304\\672479667.py\u001b[0m in \u001b[0;36m<module>\u001b[1;34m\u001b[0m\n\u001b[0;32m      1\u001b[0m hist = model.fit(X_train, Y_train,\n\u001b[0;32m      2\u001b[0m           \u001b[0mbatch_size\u001b[0m\u001b[1;33m=\u001b[0m\u001b[1;36m32\u001b[0m\u001b[1;33m,\u001b[0m \u001b[0mepochs\u001b[0m\u001b[1;33m=\u001b[0m\u001b[1;36m10\u001b[0m\u001b[1;33m,\u001b[0m\u001b[1;33m\u001b[0m\u001b[1;33m\u001b[0m\u001b[0m\n\u001b[1;32m----> 3\u001b[1;33m           validation_data=(X_val, Y_val))\n\u001b[0m",
      "\u001b[1;32m~\\anaconda3\\envs\\tf_env\\lib\\site-packages\\tensorflow\\python\\keras\\engine\\training.py\u001b[0m in \u001b[0;36m_method_wrapper\u001b[1;34m(self, *args, **kwargs)\u001b[0m\n\u001b[0;32m    106\u001b[0m   \u001b[1;32mdef\u001b[0m \u001b[0m_method_wrapper\u001b[0m\u001b[1;33m(\u001b[0m\u001b[0mself\u001b[0m\u001b[1;33m,\u001b[0m \u001b[1;33m*\u001b[0m\u001b[0margs\u001b[0m\u001b[1;33m,\u001b[0m \u001b[1;33m**\u001b[0m\u001b[0mkwargs\u001b[0m\u001b[1;33m)\u001b[0m\u001b[1;33m:\u001b[0m\u001b[1;33m\u001b[0m\u001b[1;33m\u001b[0m\u001b[0m\n\u001b[0;32m    107\u001b[0m     \u001b[1;32mif\u001b[0m \u001b[1;32mnot\u001b[0m \u001b[0mself\u001b[0m\u001b[1;33m.\u001b[0m\u001b[0m_in_multi_worker_mode\u001b[0m\u001b[1;33m(\u001b[0m\u001b[1;33m)\u001b[0m\u001b[1;33m:\u001b[0m  \u001b[1;31m# pylint: disable=protected-access\u001b[0m\u001b[1;33m\u001b[0m\u001b[1;33m\u001b[0m\u001b[0m\n\u001b[1;32m--> 108\u001b[1;33m       \u001b[1;32mreturn\u001b[0m \u001b[0mmethod\u001b[0m\u001b[1;33m(\u001b[0m\u001b[0mself\u001b[0m\u001b[1;33m,\u001b[0m \u001b[1;33m*\u001b[0m\u001b[0margs\u001b[0m\u001b[1;33m,\u001b[0m \u001b[1;33m**\u001b[0m\u001b[0mkwargs\u001b[0m\u001b[1;33m)\u001b[0m\u001b[1;33m\u001b[0m\u001b[1;33m\u001b[0m\u001b[0m\n\u001b[0m\u001b[0;32m    109\u001b[0m \u001b[1;33m\u001b[0m\u001b[0m\n\u001b[0;32m    110\u001b[0m     \u001b[1;31m# Running inside `run_distribute_coordinator` already.\u001b[0m\u001b[1;33m\u001b[0m\u001b[1;33m\u001b[0m\u001b[1;33m\u001b[0m\u001b[0m\n",
      "\u001b[1;32m~\\anaconda3\\envs\\tf_env\\lib\\site-packages\\tensorflow\\python\\keras\\engine\\training.py\u001b[0m in \u001b[0;36mfit\u001b[1;34m(self, x, y, batch_size, epochs, verbose, callbacks, validation_split, validation_data, shuffle, class_weight, sample_weight, initial_epoch, steps_per_epoch, validation_steps, validation_batch_size, validation_freq, max_queue_size, workers, use_multiprocessing)\u001b[0m\n\u001b[0;32m   1096\u001b[0m                 batch_size=batch_size):\n\u001b[0;32m   1097\u001b[0m               \u001b[0mcallbacks\u001b[0m\u001b[1;33m.\u001b[0m\u001b[0mon_train_batch_begin\u001b[0m\u001b[1;33m(\u001b[0m\u001b[0mstep\u001b[0m\u001b[1;33m)\u001b[0m\u001b[1;33m\u001b[0m\u001b[1;33m\u001b[0m\u001b[0m\n\u001b[1;32m-> 1098\u001b[1;33m               \u001b[0mtmp_logs\u001b[0m \u001b[1;33m=\u001b[0m \u001b[0mtrain_function\u001b[0m\u001b[1;33m(\u001b[0m\u001b[0miterator\u001b[0m\u001b[1;33m)\u001b[0m\u001b[1;33m\u001b[0m\u001b[1;33m\u001b[0m\u001b[0m\n\u001b[0m\u001b[0;32m   1099\u001b[0m               \u001b[1;32mif\u001b[0m \u001b[0mdata_handler\u001b[0m\u001b[1;33m.\u001b[0m\u001b[0mshould_sync\u001b[0m\u001b[1;33m:\u001b[0m\u001b[1;33m\u001b[0m\u001b[1;33m\u001b[0m\u001b[0m\n\u001b[0;32m   1100\u001b[0m                 \u001b[0mcontext\u001b[0m\u001b[1;33m.\u001b[0m\u001b[0masync_wait\u001b[0m\u001b[1;33m(\u001b[0m\u001b[1;33m)\u001b[0m\u001b[1;33m\u001b[0m\u001b[1;33m\u001b[0m\u001b[0m\n",
      "\u001b[1;32m~\\anaconda3\\envs\\tf_env\\lib\\site-packages\\tensorflow\\python\\eager\\def_function.py\u001b[0m in \u001b[0;36m__call__\u001b[1;34m(self, *args, **kwds)\u001b[0m\n\u001b[0;32m    778\u001b[0m       \u001b[1;32melse\u001b[0m\u001b[1;33m:\u001b[0m\u001b[1;33m\u001b[0m\u001b[1;33m\u001b[0m\u001b[0m\n\u001b[0;32m    779\u001b[0m         \u001b[0mcompiler\u001b[0m \u001b[1;33m=\u001b[0m \u001b[1;34m\"nonXla\"\u001b[0m\u001b[1;33m\u001b[0m\u001b[1;33m\u001b[0m\u001b[0m\n\u001b[1;32m--> 780\u001b[1;33m         \u001b[0mresult\u001b[0m \u001b[1;33m=\u001b[0m \u001b[0mself\u001b[0m\u001b[1;33m.\u001b[0m\u001b[0m_call\u001b[0m\u001b[1;33m(\u001b[0m\u001b[1;33m*\u001b[0m\u001b[0margs\u001b[0m\u001b[1;33m,\u001b[0m \u001b[1;33m**\u001b[0m\u001b[0mkwds\u001b[0m\u001b[1;33m)\u001b[0m\u001b[1;33m\u001b[0m\u001b[1;33m\u001b[0m\u001b[0m\n\u001b[0m\u001b[0;32m    781\u001b[0m \u001b[1;33m\u001b[0m\u001b[0m\n\u001b[0;32m    782\u001b[0m       \u001b[0mnew_tracing_count\u001b[0m \u001b[1;33m=\u001b[0m \u001b[0mself\u001b[0m\u001b[1;33m.\u001b[0m\u001b[0m_get_tracing_count\u001b[0m\u001b[1;33m(\u001b[0m\u001b[1;33m)\u001b[0m\u001b[1;33m\u001b[0m\u001b[1;33m\u001b[0m\u001b[0m\n",
      "\u001b[1;32m~\\anaconda3\\envs\\tf_env\\lib\\site-packages\\tensorflow\\python\\eager\\def_function.py\u001b[0m in \u001b[0;36m_call\u001b[1;34m(self, *args, **kwds)\u001b[0m\n\u001b[0;32m    812\u001b[0m       \u001b[1;31m# In this case we have not created variables on the first call. So we can\u001b[0m\u001b[1;33m\u001b[0m\u001b[1;33m\u001b[0m\u001b[1;33m\u001b[0m\u001b[0m\n\u001b[0;32m    813\u001b[0m       \u001b[1;31m# run the first trace but we should fail if variables are created.\u001b[0m\u001b[1;33m\u001b[0m\u001b[1;33m\u001b[0m\u001b[1;33m\u001b[0m\u001b[0m\n\u001b[1;32m--> 814\u001b[1;33m       \u001b[0mresults\u001b[0m \u001b[1;33m=\u001b[0m \u001b[0mself\u001b[0m\u001b[1;33m.\u001b[0m\u001b[0m_stateful_fn\u001b[0m\u001b[1;33m(\u001b[0m\u001b[1;33m*\u001b[0m\u001b[0margs\u001b[0m\u001b[1;33m,\u001b[0m \u001b[1;33m**\u001b[0m\u001b[0mkwds\u001b[0m\u001b[1;33m)\u001b[0m\u001b[1;33m\u001b[0m\u001b[1;33m\u001b[0m\u001b[0m\n\u001b[0m\u001b[0;32m    815\u001b[0m       \u001b[1;32mif\u001b[0m \u001b[0mself\u001b[0m\u001b[1;33m.\u001b[0m\u001b[0m_created_variables\u001b[0m\u001b[1;33m:\u001b[0m\u001b[1;33m\u001b[0m\u001b[1;33m\u001b[0m\u001b[0m\n\u001b[0;32m    816\u001b[0m         raise ValueError(\"Creating variables on a non-first call to a function\"\n",
      "\u001b[1;32m~\\anaconda3\\envs\\tf_env\\lib\\site-packages\\tensorflow\\python\\eager\\function.py\u001b[0m in \u001b[0;36m__call__\u001b[1;34m(self, *args, **kwargs)\u001b[0m\n\u001b[0;32m   2826\u001b[0m     \u001b[1;34m\"\"\"Calls a graph function specialized to the inputs.\"\"\"\u001b[0m\u001b[1;33m\u001b[0m\u001b[1;33m\u001b[0m\u001b[0m\n\u001b[0;32m   2827\u001b[0m     \u001b[1;32mwith\u001b[0m \u001b[0mself\u001b[0m\u001b[1;33m.\u001b[0m\u001b[0m_lock\u001b[0m\u001b[1;33m:\u001b[0m\u001b[1;33m\u001b[0m\u001b[1;33m\u001b[0m\u001b[0m\n\u001b[1;32m-> 2828\u001b[1;33m       \u001b[0mgraph_function\u001b[0m\u001b[1;33m,\u001b[0m \u001b[0margs\u001b[0m\u001b[1;33m,\u001b[0m \u001b[0mkwargs\u001b[0m \u001b[1;33m=\u001b[0m \u001b[0mself\u001b[0m\u001b[1;33m.\u001b[0m\u001b[0m_maybe_define_function\u001b[0m\u001b[1;33m(\u001b[0m\u001b[0margs\u001b[0m\u001b[1;33m,\u001b[0m \u001b[0mkwargs\u001b[0m\u001b[1;33m)\u001b[0m\u001b[1;33m\u001b[0m\u001b[1;33m\u001b[0m\u001b[0m\n\u001b[0m\u001b[0;32m   2829\u001b[0m     \u001b[1;32mreturn\u001b[0m \u001b[0mgraph_function\u001b[0m\u001b[1;33m.\u001b[0m\u001b[0m_filtered_call\u001b[0m\u001b[1;33m(\u001b[0m\u001b[0margs\u001b[0m\u001b[1;33m,\u001b[0m \u001b[0mkwargs\u001b[0m\u001b[1;33m)\u001b[0m  \u001b[1;31m# pylint: disable=protected-access\u001b[0m\u001b[1;33m\u001b[0m\u001b[1;33m\u001b[0m\u001b[0m\n\u001b[0;32m   2830\u001b[0m \u001b[1;33m\u001b[0m\u001b[0m\n",
      "\u001b[1;32m~\\anaconda3\\envs\\tf_env\\lib\\site-packages\\tensorflow\\python\\eager\\function.py\u001b[0m in \u001b[0;36m_maybe_define_function\u001b[1;34m(self, args, kwargs)\u001b[0m\n\u001b[0;32m   3208\u001b[0m           \u001b[1;32mand\u001b[0m \u001b[0mself\u001b[0m\u001b[1;33m.\u001b[0m\u001b[0minput_signature\u001b[0m \u001b[1;32mis\u001b[0m \u001b[1;32mNone\u001b[0m\u001b[1;33m\u001b[0m\u001b[1;33m\u001b[0m\u001b[0m\n\u001b[0;32m   3209\u001b[0m           and call_context_key in self._function_cache.missed):\n\u001b[1;32m-> 3210\u001b[1;33m         \u001b[1;32mreturn\u001b[0m \u001b[0mself\u001b[0m\u001b[1;33m.\u001b[0m\u001b[0m_define_function_with_shape_relaxation\u001b[0m\u001b[1;33m(\u001b[0m\u001b[0margs\u001b[0m\u001b[1;33m,\u001b[0m \u001b[0mkwargs\u001b[0m\u001b[1;33m)\u001b[0m\u001b[1;33m\u001b[0m\u001b[1;33m\u001b[0m\u001b[0m\n\u001b[0m\u001b[0;32m   3211\u001b[0m \u001b[1;33m\u001b[0m\u001b[0m\n\u001b[0;32m   3212\u001b[0m       \u001b[0mself\u001b[0m\u001b[1;33m.\u001b[0m\u001b[0m_function_cache\u001b[0m\u001b[1;33m.\u001b[0m\u001b[0mmissed\u001b[0m\u001b[1;33m.\u001b[0m\u001b[0madd\u001b[0m\u001b[1;33m(\u001b[0m\u001b[0mcall_context_key\u001b[0m\u001b[1;33m)\u001b[0m\u001b[1;33m\u001b[0m\u001b[1;33m\u001b[0m\u001b[0m\n",
      "\u001b[1;32m~\\anaconda3\\envs\\tf_env\\lib\\site-packages\\tensorflow\\python\\eager\\function.py\u001b[0m in \u001b[0;36m_define_function_with_shape_relaxation\u001b[1;34m(self, args, kwargs)\u001b[0m\n\u001b[0;32m   3140\u001b[0m \u001b[1;33m\u001b[0m\u001b[0m\n\u001b[0;32m   3141\u001b[0m     graph_function = self._create_graph_function(\n\u001b[1;32m-> 3142\u001b[1;33m         args, kwargs, override_flat_arg_shapes=relaxed_arg_shapes)\n\u001b[0m\u001b[0;32m   3143\u001b[0m     \u001b[0mself\u001b[0m\u001b[1;33m.\u001b[0m\u001b[0m_function_cache\u001b[0m\u001b[1;33m.\u001b[0m\u001b[0marg_relaxed\u001b[0m\u001b[1;33m[\u001b[0m\u001b[0mrank_only_cache_key\u001b[0m\u001b[1;33m]\u001b[0m \u001b[1;33m=\u001b[0m \u001b[0mgraph_function\u001b[0m\u001b[1;33m\u001b[0m\u001b[1;33m\u001b[0m\u001b[0m\n\u001b[0;32m   3144\u001b[0m \u001b[1;33m\u001b[0m\u001b[0m\n",
      "\u001b[1;32m~\\anaconda3\\envs\\tf_env\\lib\\site-packages\\tensorflow\\python\\eager\\function.py\u001b[0m in \u001b[0;36m_create_graph_function\u001b[1;34m(self, args, kwargs, override_flat_arg_shapes)\u001b[0m\n\u001b[0;32m   3073\u001b[0m             \u001b[0marg_names\u001b[0m\u001b[1;33m=\u001b[0m\u001b[0marg_names\u001b[0m\u001b[1;33m,\u001b[0m\u001b[1;33m\u001b[0m\u001b[1;33m\u001b[0m\u001b[0m\n\u001b[0;32m   3074\u001b[0m             \u001b[0moverride_flat_arg_shapes\u001b[0m\u001b[1;33m=\u001b[0m\u001b[0moverride_flat_arg_shapes\u001b[0m\u001b[1;33m,\u001b[0m\u001b[1;33m\u001b[0m\u001b[1;33m\u001b[0m\u001b[0m\n\u001b[1;32m-> 3075\u001b[1;33m             capture_by_value=self._capture_by_value),\n\u001b[0m\u001b[0;32m   3076\u001b[0m         \u001b[0mself\u001b[0m\u001b[1;33m.\u001b[0m\u001b[0m_function_attributes\u001b[0m\u001b[1;33m,\u001b[0m\u001b[1;33m\u001b[0m\u001b[1;33m\u001b[0m\u001b[0m\n\u001b[0;32m   3077\u001b[0m         \u001b[0mfunction_spec\u001b[0m\u001b[1;33m=\u001b[0m\u001b[0mself\u001b[0m\u001b[1;33m.\u001b[0m\u001b[0mfunction_spec\u001b[0m\u001b[1;33m,\u001b[0m\u001b[1;33m\u001b[0m\u001b[1;33m\u001b[0m\u001b[0m\n",
      "\u001b[1;32m~\\anaconda3\\envs\\tf_env\\lib\\site-packages\\tensorflow\\python\\framework\\func_graph.py\u001b[0m in \u001b[0;36mfunc_graph_from_py_func\u001b[1;34m(name, python_func, args, kwargs, signature, func_graph, autograph, autograph_options, add_control_dependencies, arg_names, op_return_value, collections, capture_by_value, override_flat_arg_shapes)\u001b[0m\n\u001b[0;32m    984\u001b[0m         \u001b[0m_\u001b[0m\u001b[1;33m,\u001b[0m \u001b[0moriginal_func\u001b[0m \u001b[1;33m=\u001b[0m \u001b[0mtf_decorator\u001b[0m\u001b[1;33m.\u001b[0m\u001b[0munwrap\u001b[0m\u001b[1;33m(\u001b[0m\u001b[0mpython_func\u001b[0m\u001b[1;33m)\u001b[0m\u001b[1;33m\u001b[0m\u001b[1;33m\u001b[0m\u001b[0m\n\u001b[0;32m    985\u001b[0m \u001b[1;33m\u001b[0m\u001b[0m\n\u001b[1;32m--> 986\u001b[1;33m       \u001b[0mfunc_outputs\u001b[0m \u001b[1;33m=\u001b[0m \u001b[0mpython_func\u001b[0m\u001b[1;33m(\u001b[0m\u001b[1;33m*\u001b[0m\u001b[0mfunc_args\u001b[0m\u001b[1;33m,\u001b[0m \u001b[1;33m**\u001b[0m\u001b[0mfunc_kwargs\u001b[0m\u001b[1;33m)\u001b[0m\u001b[1;33m\u001b[0m\u001b[1;33m\u001b[0m\u001b[0m\n\u001b[0m\u001b[0;32m    987\u001b[0m \u001b[1;33m\u001b[0m\u001b[0m\n\u001b[0;32m    988\u001b[0m       \u001b[1;31m# invariant: `func_outputs` contains only Tensors, CompositeTensors,\u001b[0m\u001b[1;33m\u001b[0m\u001b[1;33m\u001b[0m\u001b[1;33m\u001b[0m\u001b[0m\n",
      "\u001b[1;32m~\\anaconda3\\envs\\tf_env\\lib\\site-packages\\tensorflow\\python\\eager\\def_function.py\u001b[0m in \u001b[0;36mwrapped_fn\u001b[1;34m(*args, **kwds)\u001b[0m\n\u001b[0;32m    598\u001b[0m         \u001b[1;31m# __wrapped__ allows AutoGraph to swap in a converted function. We give\u001b[0m\u001b[1;33m\u001b[0m\u001b[1;33m\u001b[0m\u001b[1;33m\u001b[0m\u001b[0m\n\u001b[0;32m    599\u001b[0m         \u001b[1;31m# the function a weak reference to itself to avoid a reference cycle.\u001b[0m\u001b[1;33m\u001b[0m\u001b[1;33m\u001b[0m\u001b[1;33m\u001b[0m\u001b[0m\n\u001b[1;32m--> 600\u001b[1;33m         \u001b[1;32mreturn\u001b[0m \u001b[0mweak_wrapped_fn\u001b[0m\u001b[1;33m(\u001b[0m\u001b[1;33m)\u001b[0m\u001b[1;33m.\u001b[0m\u001b[0m__wrapped__\u001b[0m\u001b[1;33m(\u001b[0m\u001b[1;33m*\u001b[0m\u001b[0margs\u001b[0m\u001b[1;33m,\u001b[0m \u001b[1;33m**\u001b[0m\u001b[0mkwds\u001b[0m\u001b[1;33m)\u001b[0m\u001b[1;33m\u001b[0m\u001b[1;33m\u001b[0m\u001b[0m\n\u001b[0m\u001b[0;32m    601\u001b[0m     \u001b[0mweak_wrapped_fn\u001b[0m \u001b[1;33m=\u001b[0m \u001b[0mweakref\u001b[0m\u001b[1;33m.\u001b[0m\u001b[0mref\u001b[0m\u001b[1;33m(\u001b[0m\u001b[0mwrapped_fn\u001b[0m\u001b[1;33m)\u001b[0m\u001b[1;33m\u001b[0m\u001b[1;33m\u001b[0m\u001b[0m\n\u001b[0;32m    602\u001b[0m \u001b[1;33m\u001b[0m\u001b[0m\n",
      "\u001b[1;32m~\\anaconda3\\envs\\tf_env\\lib\\site-packages\\tensorflow\\python\\framework\\func_graph.py\u001b[0m in \u001b[0;36mwrapper\u001b[1;34m(*args, **kwargs)\u001b[0m\n\u001b[0;32m    971\u001b[0m           \u001b[1;32mexcept\u001b[0m \u001b[0mException\u001b[0m \u001b[1;32mas\u001b[0m \u001b[0me\u001b[0m\u001b[1;33m:\u001b[0m  \u001b[1;31m# pylint:disable=broad-except\u001b[0m\u001b[1;33m\u001b[0m\u001b[1;33m\u001b[0m\u001b[0m\n\u001b[0;32m    972\u001b[0m             \u001b[1;32mif\u001b[0m \u001b[0mhasattr\u001b[0m\u001b[1;33m(\u001b[0m\u001b[0me\u001b[0m\u001b[1;33m,\u001b[0m \u001b[1;34m\"ag_error_metadata\"\u001b[0m\u001b[1;33m)\u001b[0m\u001b[1;33m:\u001b[0m\u001b[1;33m\u001b[0m\u001b[1;33m\u001b[0m\u001b[0m\n\u001b[1;32m--> 973\u001b[1;33m               \u001b[1;32mraise\u001b[0m \u001b[0me\u001b[0m\u001b[1;33m.\u001b[0m\u001b[0mag_error_metadata\u001b[0m\u001b[1;33m.\u001b[0m\u001b[0mto_exception\u001b[0m\u001b[1;33m(\u001b[0m\u001b[0me\u001b[0m\u001b[1;33m)\u001b[0m\u001b[1;33m\u001b[0m\u001b[1;33m\u001b[0m\u001b[0m\n\u001b[0m\u001b[0;32m    974\u001b[0m             \u001b[1;32melse\u001b[0m\u001b[1;33m:\u001b[0m\u001b[1;33m\u001b[0m\u001b[1;33m\u001b[0m\u001b[0m\n\u001b[0;32m    975\u001b[0m               \u001b[1;32mraise\u001b[0m\u001b[1;33m\u001b[0m\u001b[1;33m\u001b[0m\u001b[0m\n",
      "\u001b[1;31mValueError\u001b[0m: in user code:\n\n    C:\\Users\\SREENITHI\\anaconda3\\envs\\tf_env\\lib\\site-packages\\tensorflow\\python\\keras\\engine\\training.py:806 train_function  *\n        return step_function(self, iterator)\n    C:\\Users\\SREENITHI\\anaconda3\\envs\\tf_env\\lib\\site-packages\\tensorflow\\python\\keras\\engine\\training.py:796 step_function  **\n        outputs = model.distribute_strategy.run(run_step, args=(data,))\n    C:\\Users\\SREENITHI\\anaconda3\\envs\\tf_env\\lib\\site-packages\\tensorflow\\python\\distribute\\distribute_lib.py:1211 run\n        return self._extended.call_for_each_replica(fn, args=args, kwargs=kwargs)\n    C:\\Users\\SREENITHI\\anaconda3\\envs\\tf_env\\lib\\site-packages\\tensorflow\\python\\distribute\\distribute_lib.py:2585 call_for_each_replica\n        return self._call_for_each_replica(fn, args, kwargs)\n    C:\\Users\\SREENITHI\\anaconda3\\envs\\tf_env\\lib\\site-packages\\tensorflow\\python\\distribute\\distribute_lib.py:2945 _call_for_each_replica\n        return fn(*args, **kwargs)\n    C:\\Users\\SREENITHI\\anaconda3\\envs\\tf_env\\lib\\site-packages\\tensorflow\\python\\keras\\engine\\training.py:789 run_step  **\n        outputs = model.train_step(data)\n    C:\\Users\\SREENITHI\\anaconda3\\envs\\tf_env\\lib\\site-packages\\tensorflow\\python\\keras\\engine\\training.py:747 train_step\n        y_pred = self(x, training=True)\n    C:\\Users\\SREENITHI\\anaconda3\\envs\\tf_env\\lib\\site-packages\\tensorflow\\python\\keras\\engine\\base_layer.py:976 __call__\n        self.name)\n    C:\\Users\\SREENITHI\\anaconda3\\envs\\tf_env\\lib\\site-packages\\tensorflow\\python\\keras\\engine\\input_spec.py:216 assert_input_compatibility\n        ' but received input with shape ' + str(shape))\n\n    ValueError: Input 0 of layer sequential is incompatible with the layer: expected axis -1 of input shape to have value 6 but received input with shape [None, 10]\n"
     ]
    }
   ],
   "source": [
    "hist = model.fit(X_train, Y_train,\n",
    "          batch_size=32, epochs=10,\n",
    "          validation_data=(X_val, Y_val))"
   ]
  },
  {
   "cell_type": "code",
   "execution_count": null,
   "metadata": {
    "colab": {
     "base_uri": "https://localhost:8080/"
    },
    "id": "bzm4zd-D9AU0",
    "outputId": "8880b858-b53e-4d80-f049-ef812c351a1a"
   },
   "outputs": [
    {
     "name": "stdout",
     "output_type": "stream",
     "text": [
      "71/71 [==============================] - 0s 2ms/step - loss: 0.1130 - accuracy: 0.9751\n"
     ]
    },
    {
     "data": {
      "text/plain": [
       "0.9751111268997192"
      ]
     },
     "execution_count": 119,
     "metadata": {},
     "output_type": "execute_result"
    }
   ],
   "source": [
    "model.evaluate(X_test, Y_test)[1]"
   ]
  },
  {
   "cell_type": "code",
   "execution_count": null,
   "metadata": {
    "id": "k2F5bfKx-3kB"
   },
   "outputs": [],
   "source": [
    "import matplotlib.pyplot as plt"
   ]
  },
  {
   "cell_type": "code",
   "execution_count": null,
   "metadata": {
    "colab": {
     "base_uri": "https://localhost:8080/",
     "height": 295
    },
    "id": "eA0-ddco-613",
    "outputId": "7524d545-9064-46a3-9a69-217df180900f"
   },
   "outputs": [
    {
     "data": {
      "image/png": "[encoded data removed]",
      "text/plain": [
       "<Figure size 432x288 with 1 Axes>"
      ]
     },
     "metadata": {
      "needs_background": "light"
     },
     "output_type": "display_data"
    }
   ],
   "source": [
    "plt.plot(hist.history['loss'])\n",
    "plt.plot(hist.history['val_loss'])\n",
    "plt.title('Model loss')\n",
    "plt.ylabel('Loss')\n",
    "plt.xlabel('Epoch')\n",
    "plt.legend(['Train', 'Val'], loc='upper right')\n",
    "plt.show()"
   ]
  },
  {
   "cell_type": "code",
   "execution_count": null,
   "metadata": {
    "colab": {
     "base_uri": "https://localhost:8080/",
     "height": 295
    },
    "id": "i280zMOP--mO",
    "outputId": "2f71b7d3-2e59-473c-aeea-b2dc3e13b975"
   },
   "outputs": [
    {
     "data": {
      "image/png": "[encoded data removed]",
      "text/plain": [
       "<Figure size 432x288 with 1 Axes>"
      ]
     },
     "metadata": {
      "needs_background": "light"
     },
     "output_type": "display_data"
    }
   ],
   "source": [
    "plt.plot(hist.history['accuracy'])\n",
    "plt.plot(hist.history['val_accuracy'])\n",
    "plt.title('Model accuracy')\n",
    "plt.ylabel('Accuracy')\n",
    "plt.xlabel('Epoch')\n",
    "plt.legend(['Train', 'Val'], loc='lower right')\n",
    "plt.show()"
   ]
  },
  {
   "cell_type": "code",
   "execution_count": null,
   "metadata": {
    "colab": {
     "base_uri": "https://localhost:8080/"
    },
    "id": "s5ScmL4p_Hvj",
    "outputId": "ecdc5433-ee51-4b87-b395-3f1532fef336"
   },
   "outputs": [
    {
     "name": "stdout",
     "output_type": "stream",
     "text": [
      "Epoch 1/100\n",
      "329/329 [==============================] - 14s 39ms/step - loss: 0.1231 - accuracy: 0.9757 - val_loss: 0.0952 - val_accuracy: 0.9840\n",
      "Epoch 2/100\n",
      "329/329 [==============================] - 13s 38ms/step - loss: 0.1082 - accuracy: 0.9784 - val_loss: 0.0867 - val_accuracy: 0.9840\n",
      "Epoch 3/100\n",
      "329/329 [==============================] - 13s 39ms/step - loss: 0.1041 - accuracy: 0.9784 - val_loss: 0.0835 - val_accuracy: 0.9840\n",
      "Epoch 4/100\n",
      "329/329 [==============================] - 13s 38ms/step - loss: 0.1039 - accuracy: 0.9784 - val_loss: 0.0783 - val_accuracy: 0.9840\n",
      "Epoch 5/100\n",
      "329/329 [==============================] - 12s 38ms/step - loss: 0.1025 - accuracy: 0.9784 - val_loss: 0.0795 - val_accuracy: 0.9840\n",
      "Epoch 6/100\n",
      "329/329 [==============================] - 14s 44ms/step - loss: 0.1022 - accuracy: 0.9784 - val_loss: 0.0752 - val_accuracy: 0.9840\n",
      "Epoch 7/100\n",
      "329/329 [==============================] - 12s 38ms/step - loss: 0.0999 - accuracy: 0.9784 - val_loss: 0.0748 - val_accuracy: 0.9840\n",
      "Epoch 8/100\n",
      "329/329 [==============================] - 13s 38ms/step - loss: 0.1005 - accuracy: 0.9784 - val_loss: 0.0769 - val_accuracy: 0.9840\n",
      "Epoch 9/100\n",
      "329/329 [==============================] - 12s 38ms/step - loss: 0.0989 - accuracy: 0.9784 - val_loss: 0.0761 - val_accuracy: 0.9840\n",
      "Epoch 10/100\n",
      "329/329 [==============================] - 12s 38ms/step - loss: 0.0998 - accuracy: 0.9784 - val_loss: 0.0788 - val_accuracy: 0.9840\n",
      "Epoch 11/100\n",
      "329/329 [==============================] - 12s 38ms/step - loss: 0.0989 - accuracy: 0.9784 - val_loss: 0.0940 - val_accuracy: 0.9840\n",
      "Epoch 12/100\n",
      "329/329 [==============================] - 13s 38ms/step - loss: 0.0990 - accuracy: 0.9784 - val_loss: 0.0779 - val_accuracy: 0.9840\n",
      "Epoch 13/100\n",
      "329/329 [==============================] - 13s 38ms/step - loss: 0.0988 - accuracy: 0.9784 - val_loss: 0.0758 - val_accuracy: 0.9840\n",
      "Epoch 14/100\n",
      "329/329 [==============================] - 12s 38ms/step - loss: 0.0988 - accuracy: 0.9784 - val_loss: 0.0744 - val_accuracy: 0.9840\n",
      "Epoch 15/100\n",
      "329/329 [==============================] - 13s 38ms/step - loss: 0.0978 - accuracy: 0.9784 - val_loss: 0.0757 - val_accuracy: 0.9840\n",
      "Epoch 16/100\n",
      "329/329 [==============================] - 12s 38ms/step - loss: 0.0976 - accuracy: 0.9784 - val_loss: 0.0767 - val_accuracy: 0.9840\n",
      "Epoch 17/100\n",
      "329/329 [==============================] - 13s 39ms/step - loss: 0.0981 - accuracy: 0.9784 - val_loss: 0.0825 - val_accuracy: 0.9840\n",
      "Epoch 18/100\n",
      "329/329 [==============================] - 14s 42ms/step - loss: 0.0964 - accuracy: 0.9784 - val_loss: 0.0793 - val_accuracy: 0.9840\n",
      "Epoch 19/100\n",
      "329/329 [==============================] - 13s 39ms/step - loss: 0.0960 - accuracy: 0.9784 - val_loss: 0.0775 - val_accuracy: 0.9840\n",
      "Epoch 20/100\n",
      "329/329 [==============================] - 12s 38ms/step - loss: 0.0960 - accuracy: 0.9784 - val_loss: 0.0810 - val_accuracy: 0.9840\n",
      "Epoch 21/100\n",
      "329/329 [==============================] - 12s 37ms/step - loss: 0.0958 - accuracy: 0.9784 - val_loss: 0.0739 - val_accuracy: 0.9840\n",
      "Epoch 22/100\n",
      "329/329 [==============================] - 12s 37ms/step - loss: 0.0956 - accuracy: 0.9784 - val_loss: 0.0781 - val_accuracy: 0.9840\n",
      "Epoch 23/100\n",
      "329/329 [==============================] - 12s 38ms/step - loss: 0.0944 - accuracy: 0.9783 - val_loss: 0.0923 - val_accuracy: 0.9840\n",
      "Epoch 24/100\n",
      "329/329 [==============================] - 12s 38ms/step - loss: 0.0944 - accuracy: 0.9785 - val_loss: 0.0761 - val_accuracy: 0.9840\n",
      "Epoch 25/100\n",
      "329/329 [==============================] - 12s 37ms/step - loss: 0.0940 - accuracy: 0.9783 - val_loss: 0.0775 - val_accuracy: 0.9840\n",
      "Epoch 26/100\n",
      "329/329 [==============================] - 12s 37ms/step - loss: 0.0939 - accuracy: 0.9783 - val_loss: 0.0744 - val_accuracy: 0.9840\n",
      "Epoch 27/100\n",
      "329/329 [==============================] - 12s 37ms/step - loss: 0.0926 - accuracy: 0.9784 - val_loss: 0.0728 - val_accuracy: 0.9840\n",
      "Epoch 28/100\n",
      "329/329 [==============================] - 12s 38ms/step - loss: 0.0938 - accuracy: 0.9784 - val_loss: 0.0769 - val_accuracy: 0.9831\n",
      "Epoch 29/100\n",
      "329/329 [==============================] - 15s 45ms/step - loss: 0.0927 - accuracy: 0.9782 - val_loss: 0.0756 - val_accuracy: 0.9840\n",
      "Epoch 30/100\n",
      "329/329 [==============================] - 12s 38ms/step - loss: 0.0917 - accuracy: 0.9787 - val_loss: 0.0762 - val_accuracy: 0.9840\n",
      "Epoch 31/100\n",
      "329/329 [==============================] - 13s 38ms/step - loss: 0.0904 - accuracy: 0.9785 - val_loss: 0.0791 - val_accuracy: 0.9813\n",
      "Epoch 32/100\n",
      "329/329 [==============================] - 12s 38ms/step - loss: 0.0900 - accuracy: 0.9787 - val_loss: 0.0786 - val_accuracy: 0.9840\n",
      "Epoch 33/100\n",
      "329/329 [==============================] - 12s 38ms/step - loss: 0.0909 - accuracy: 0.9786 - val_loss: 0.0796 - val_accuracy: 0.9840\n",
      "Epoch 34/100\n",
      "329/329 [==============================] - 12s 38ms/step - loss: 0.0899 - accuracy: 0.9790 - val_loss: 0.0800 - val_accuracy: 0.9840\n",
      "Epoch 35/100\n",
      "329/329 [==============================] - 12s 38ms/step - loss: 0.0891 - accuracy: 0.9788 - val_loss: 0.0763 - val_accuracy: 0.9831\n",
      "Epoch 36/100\n",
      "329/329 [==============================] - 12s 38ms/step - loss: 0.0921 - accuracy: 0.9787 - val_loss: 0.0759 - val_accuracy: 0.9822\n",
      "Epoch 37/100\n",
      "329/329 [==============================] - 12s 38ms/step - loss: 0.0896 - accuracy: 0.9789 - val_loss: 0.0772 - val_accuracy: 0.9840\n",
      "Epoch 38/100\n",
      "329/329 [==============================] - 12s 37ms/step - loss: 0.0889 - accuracy: 0.9790 - val_loss: 0.0749 - val_accuracy: 0.9840\n",
      "Epoch 39/100\n",
      "329/329 [==============================] - 12s 37ms/step - loss: 0.0880 - accuracy: 0.9791 - val_loss: 0.0815 - val_accuracy: 0.9836\n",
      "Epoch 40/100\n",
      "329/329 [==============================] - 12s 37ms/step - loss: 0.0879 - accuracy: 0.9789 - val_loss: 0.0747 - val_accuracy: 0.9831\n",
      "Epoch 41/100\n",
      "329/329 [==============================] - 14s 43ms/step - loss: 0.0873 - accuracy: 0.9788 - val_loss: 0.0829 - val_accuracy: 0.9831\n",
      "Epoch 42/100\n",
      "329/329 [==============================] - 12s 37ms/step - loss: 0.0880 - accuracy: 0.9790 - val_loss: 0.0833 - val_accuracy: 0.9840\n",
      "Epoch 43/100\n",
      "329/329 [==============================] - 12s 38ms/step - loss: 0.0877 - accuracy: 0.9794 - val_loss: 0.0829 - val_accuracy: 0.9827\n",
      "Epoch 44/100\n",
      "329/329 [==============================] - 12s 38ms/step - loss: 0.0862 - accuracy: 0.9792 - val_loss: 0.0757 - val_accuracy: 0.9813\n",
      "Epoch 45/100\n",
      "329/329 [==============================] - 12s 37ms/step - loss: 0.0854 - accuracy: 0.9802 - val_loss: 0.0766 - val_accuracy: 0.9827\n",
      "Epoch 46/100\n",
      "329/329 [==============================] - 12s 38ms/step - loss: 0.0858 - accuracy: 0.9794 - val_loss: 0.0809 - val_accuracy: 0.9840\n",
      "Epoch 47/100\n",
      "329/329 [==============================] - 13s 38ms/step - loss: 0.0856 - accuracy: 0.9793 - val_loss: 0.0842 - val_accuracy: 0.9827\n",
      "Epoch 48/100\n",
      "329/329 [==============================] - 13s 39ms/step - loss: 0.0854 - accuracy: 0.9799 - val_loss: 0.0859 - val_accuracy: 0.9831\n",
      "Epoch 49/100\n",
      "329/329 [==============================] - 13s 38ms/step - loss: 0.0861 - accuracy: 0.9789 - val_loss: 0.0840 - val_accuracy: 0.9836\n",
      "Epoch 50/100\n",
      "329/329 [==============================] - 13s 38ms/step - loss: 0.0863 - accuracy: 0.9796 - val_loss: 0.0808 - val_accuracy: 0.9836\n",
      "Epoch 51/100\n",
      "329/329 [==============================] - 12s 38ms/step - loss: 0.0840 - accuracy: 0.9798 - val_loss: 0.0794 - val_accuracy: 0.9840\n",
      "Epoch 52/100\n",
      "329/329 [==============================] - 14s 44ms/step - loss: 0.0846 - accuracy: 0.9796 - val_loss: 0.0818 - val_accuracy: 0.9836\n",
      "Epoch 53/100\n",
      "329/329 [==============================] - 12s 38ms/step - loss: 0.0886 - accuracy: 0.9794 - val_loss: 0.0775 - val_accuracy: 0.9844\n",
      "Epoch 54/100\n",
      "329/329 [==============================] - 13s 39ms/step - loss: 0.0815 - accuracy: 0.9807 - val_loss: 0.0795 - val_accuracy: 0.9844\n",
      "Epoch 55/100\n",
      "329/329 [==============================] - 13s 38ms/step - loss: 0.0833 - accuracy: 0.9796 - val_loss: 0.0814 - val_accuracy: 0.9831\n",
      "Epoch 56/100\n",
      "329/329 [==============================] - 13s 38ms/step - loss: 0.0811 - accuracy: 0.9804 - val_loss: 0.0902 - val_accuracy: 0.9840\n",
      "Epoch 57/100\n",
      "329/329 [==============================] - 13s 39ms/step - loss: 0.0828 - accuracy: 0.9799 - val_loss: 0.0782 - val_accuracy: 0.9836\n",
      "Epoch 58/100\n",
      "329/329 [==============================] - 13s 38ms/step - loss: 0.0813 - accuracy: 0.9797 - val_loss: 0.0915 - val_accuracy: 0.9827\n",
      "Epoch 59/100\n",
      "329/329 [==============================] - 13s 39ms/step - loss: 0.0824 - accuracy: 0.9799 - val_loss: 0.0811 - val_accuracy: 0.9849\n",
      "Epoch 60/100\n",
      "329/329 [==============================] - 13s 38ms/step - loss: 0.0803 - accuracy: 0.9803 - val_loss: 0.0796 - val_accuracy: 0.9831\n",
      "Epoch 61/100\n",
      "329/329 [==============================] - 13s 38ms/step - loss: 0.0785 - accuracy: 0.9807 - val_loss: 0.0842 - val_accuracy: 0.9831\n",
      "Epoch 62/100\n",
      "329/329 [==============================] - 13s 38ms/step - loss: 0.0803 - accuracy: 0.9809 - val_loss: 0.0851 - val_accuracy: 0.9844\n",
      "Epoch 63/100\n",
      "329/329 [==============================] - 14s 43ms/step - loss: 0.0796 - accuracy: 0.9805 - val_loss: 0.0917 - val_accuracy: 0.9836\n",
      "Epoch 64/100\n",
      "329/329 [==============================] - 12s 38ms/step - loss: 0.0781 - accuracy: 0.9807 - val_loss: 0.0882 - val_accuracy: 0.9827\n",
      "Epoch 65/100\n",
      "329/329 [==============================] - 12s 38ms/step - loss: 0.0804 - accuracy: 0.9806 - val_loss: 0.0838 - val_accuracy: 0.9840\n",
      "Epoch 66/100\n",
      "329/329 [==============================] - 13s 39ms/step - loss: 0.0786 - accuracy: 0.9797 - val_loss: 0.0835 - val_accuracy: 0.9836\n",
      "Epoch 67/100\n",
      "329/329 [==============================] - 13s 39ms/step - loss: 0.0779 - accuracy: 0.9805 - val_loss: 0.0861 - val_accuracy: 0.9858\n",
      "Epoch 68/100\n",
      "329/329 [==============================] - 13s 38ms/step - loss: 0.0819 - accuracy: 0.9799 - val_loss: 0.0921 - val_accuracy: 0.9840\n",
      "Epoch 69/100\n",
      "329/329 [==============================] - 12s 38ms/step - loss: 0.0797 - accuracy: 0.9800 - val_loss: 0.0849 - val_accuracy: 0.9844\n",
      "Epoch 70/100\n",
      "329/329 [==============================] - 12s 37ms/step - loss: 0.0785 - accuracy: 0.9810 - val_loss: 0.0852 - val_accuracy: 0.9822\n",
      "Epoch 71/100\n",
      "329/329 [==============================] - 12s 38ms/step - loss: 0.0768 - accuracy: 0.9809 - val_loss: 0.0776 - val_accuracy: 0.9849\n",
      "Epoch 72/100\n",
      "329/329 [==============================] - 12s 38ms/step - loss: 0.0753 - accuracy: 0.9815 - val_loss: 0.0851 - val_accuracy: 0.9840\n",
      "Epoch 73/100\n",
      "329/329 [==============================] - 12s 38ms/step - loss: 0.0755 - accuracy: 0.9813 - val_loss: 0.0958 - val_accuracy: 0.9822\n",
      "Epoch 74/100\n",
      "329/329 [==============================] - 12s 38ms/step - loss: 0.0745 - accuracy: 0.9812 - val_loss: 0.1048 - val_accuracy: 0.9844\n",
      "Epoch 75/100\n",
      "329/329 [==============================] - 15s 44ms/step - loss: 0.0762 - accuracy: 0.9811 - val_loss: 0.0916 - val_accuracy: 0.9809\n",
      "Epoch 76/100\n",
      "329/329 [==============================] - 13s 39ms/step - loss: 0.0752 - accuracy: 0.9813 - val_loss: 0.0911 - val_accuracy: 0.9818\n",
      "Epoch 77/100\n",
      "329/329 [==============================] - 13s 38ms/step - loss: 0.0759 - accuracy: 0.9805 - val_loss: 0.0834 - val_accuracy: 0.9822\n",
      "Epoch 78/100\n",
      "329/329 [==============================] - 13s 38ms/step - loss: 0.0758 - accuracy: 0.9810 - val_loss: 0.0914 - val_accuracy: 0.9840\n",
      "Epoch 79/100\n",
      "329/329 [==============================] - 13s 39ms/step - loss: 0.0737 - accuracy: 0.9814 - val_loss: 0.0965 - val_accuracy: 0.9836\n",
      "Epoch 80/100\n",
      "329/329 [==============================] - 12s 38ms/step - loss: 0.0718 - accuracy: 0.9814 - val_loss: 0.0862 - val_accuracy: 0.9831\n",
      "Epoch 81/100\n",
      "329/329 [==============================] - 13s 38ms/step - loss: 0.0714 - accuracy: 0.9813 - val_loss: 0.1026 - val_accuracy: 0.9818\n",
      "Epoch 82/100\n",
      "329/329 [==============================] - 12s 38ms/step - loss: 0.0722 - accuracy: 0.9813 - val_loss: 0.0906 - val_accuracy: 0.9849\n",
      "Epoch 83/100\n",
      "329/329 [==============================] - 13s 38ms/step - loss: 0.0706 - accuracy: 0.9814 - val_loss: 0.1125 - val_accuracy: 0.9836\n",
      "Epoch 84/100\n",
      "329/329 [==============================] - 13s 39ms/step - loss: 0.0710 - accuracy: 0.9810 - val_loss: 0.0950 - val_accuracy: 0.9796\n",
      "Epoch 85/100\n",
      "329/329 [==============================] - 13s 38ms/step - loss: 0.0704 - accuracy: 0.9817 - val_loss: 0.0974 - val_accuracy: 0.9844\n",
      "Epoch 86/100\n",
      "329/329 [==============================] - 15s 44ms/step - loss: 0.0723 - accuracy: 0.9810 - val_loss: 0.1001 - val_accuracy: 0.9844\n",
      "Epoch 87/100\n",
      "329/329 [==============================] - 13s 38ms/step - loss: 0.0706 - accuracy: 0.9817 - val_loss: 0.1218 - val_accuracy: 0.9844\n",
      "Epoch 88/100\n",
      "329/329 [==============================] - 12s 38ms/step - loss: 0.0744 - accuracy: 0.9808 - val_loss: 0.0954 - val_accuracy: 0.9836\n",
      "Epoch 89/100\n",
      "329/329 [==============================] - 12s 38ms/step - loss: 0.0708 - accuracy: 0.9816 - val_loss: 0.0896 - val_accuracy: 0.9844\n",
      "Epoch 90/100\n",
      "329/329 [==============================] - 13s 39ms/step - loss: 0.0727 - accuracy: 0.9806 - val_loss: 0.0873 - val_accuracy: 0.9840\n",
      "Epoch 91/100\n",
      "329/329 [==============================] - 13s 38ms/step - loss: 0.0677 - accuracy: 0.9826 - val_loss: 0.1020 - val_accuracy: 0.9844\n",
      "Epoch 92/100\n",
      "329/329 [==============================] - 13s 38ms/step - loss: 0.0687 - accuracy: 0.9815 - val_loss: 0.1013 - val_accuracy: 0.9844\n",
      "Epoch 93/100\n",
      "329/329 [==============================] - 13s 38ms/step - loss: 0.0649 - accuracy: 0.9823 - val_loss: 0.1070 - val_accuracy: 0.9844\n",
      "Epoch 94/100\n",
      "329/329 [==============================] - 13s 38ms/step - loss: 0.0666 - accuracy: 0.9823 - val_loss: 0.1159 - val_accuracy: 0.9840\n",
      "Epoch 95/100\n",
      "329/329 [==============================] - 13s 39ms/step - loss: 0.0663 - accuracy: 0.9821 - val_loss: 0.1076 - val_accuracy: 0.9849\n",
      "Epoch 96/100\n",
      "329/329 [==============================] - 13s 38ms/step - loss: 0.0661 - accuracy: 0.9827 - val_loss: 0.1044 - val_accuracy: 0.9831\n",
      "Epoch 97/100\n",
      "329/329 [==============================] - 14s 43ms/step - loss: 0.0657 - accuracy: 0.9825 - val_loss: 0.1048 - val_accuracy: 0.9853\n",
      "Epoch 98/100\n",
      "329/329 [==============================] - 13s 39ms/step - loss: 0.0637 - accuracy: 0.9829 - val_loss: 0.1225 - val_accuracy: 0.9831\n",
      "Epoch 99/100\n",
      "329/329 [==============================] - 12s 38ms/step - loss: 0.0679 - accuracy: 0.9821 - val_loss: 0.0997 - val_accuracy: 0.9853\n",
      "Epoch 100/100\n",
      "329/329 [==============================] - 12s 38ms/step - loss: 0.0675 - accuracy: 0.9817 - val_loss: 0.1127 - val_accuracy: 0.9836\n"
     ]
    }
   ],
   "source": [
    "model_2 = Sequential([\n",
    "    Dense(1000, activation='relu', input_shape=(6,)),\n",
    "    Dense(1000, activation='relu'),\n",
    "    Dense(1000, activation='relu'),\n",
    "    Dense(1000, activation='relu'),\n",
    "    Dense(1, activation='sigmoid'),\n",
    "])\n",
    "\n",
    "model_2.compile(optimizer='adam',\n",
    "              loss='binary_crossentropy',\n",
    "              metrics=['accuracy'])\n",
    "              \n",
    "hist_2 = model_2.fit(X_train, Y_train,\n",
    "          batch_size=32, epochs=100,\n",
    "          validation_data=(X_val, Y_val))"
   ]
  },
  {
   "cell_type": "code",
   "execution_count": null,
   "metadata": {
    "colab": {
     "base_uri": "https://localhost:8080/",
     "height": 295
    },
    "id": "H42jCvpO_MXT",
    "outputId": "a06b5d4f-49bf-4d55-ed1c-9378082c5e3d"
   },
   "outputs": [
    {
     "data": {
      "image/png": "[encoded data removed]",
      "text/plain": [
       "<Figure size 432x288 with 1 Axes>"
      ]
     },
     "metadata": {
      "needs_background": "light"
     },
     "output_type": "display_data"
    }
   ],
   "source": [
    "plt.plot(hist_2.history['loss'])\n",
    "plt.plot(hist_2.history['val_loss'])\n",
    "plt.title('Model loss')\n",
    "plt.ylabel('Loss')\n",
    "plt.xlabel('Epoch')\n",
    "plt.legend(['Train', 'Val'], loc='upper right')\n",
    "plt.show()"
   ]
  },
  {
   "cell_type": "code",
   "execution_count": null,
   "metadata": {
    "colab": {
     "base_uri": "https://localhost:8080/",
     "height": 295
    },
    "id": "GlDTLH4VANWo",
    "outputId": "1699517f-4bbe-4ab0-b3e7-7d36eef0af85"
   },
   "outputs": [
    {
     "data": {
      "image/png": "[encoded data removed]",
      "text/plain": [
       "<Figure size 432x288 with 1 Axes>"
      ]
     },
     "metadata": {
      "needs_background": "light"
     },
     "output_type": "display_data"
    }
   ],
   "source": [
    "plt.plot(hist_2.history['accuracy'])\n",
    "plt.plot(hist_2.history['val_accuracy'])\n",
    "plt.title('Model accuracy')\n",
    "plt.ylabel('Accuracy')\n",
    "plt.xlabel('Epoch')\n",
    "plt.legend(['Train', 'Val'], loc='lower right')\n",
    "plt.show()"
   ]
  },
  {
   "cell_type": "code",
   "execution_count": null,
   "metadata": {
    "id": "LYA2nVFxARvM"
   },
   "outputs": [],
   "source": [
    "from keras.layers import Dropout\n",
    "from keras import regularizers\n"
   ]
  },
  {
   "cell_type": "code",
   "execution_count": null,
   "metadata": {
    "id": "pBE4n26lAW1F"
   },
   "outputs": [],
   "source": [
    "model_3 = Sequential([\n",
    "    Dense(1000, activation='relu', kernel_regularizer=regularizers.l2(0.01), input_shape=(6,)),\n",
    "    Dropout(0.3),\n",
    "    Dense(1000, activation='relu', kernel_regularizer=regularizers.l2(0.01)),\n",
    "    Dropout(0.3),\n",
    "    Dense(1000, activation='relu', kernel_regularizer=regularizers.l2(0.01)),\n",
    "    Dropout(0.3),\n",
    "    Dense(1000, activation='relu', kernel_regularizer=regularizers.l2(0.01)),\n",
    "    Dropout(0.3),\n",
    "    Dense(1, activation='sigmoid', kernel_regularizer=regularizers.l2(0.01)),\n",
    "])"
   ]
  },
  {
   "cell_type": "code",
   "execution_count": null,
   "metadata": {
    "colab": {
     "base_uri": "https://localhost:8080/"
    },
    "id": "MLQf2A21AZgA",
    "outputId": "36150839-baad-45a8-9d2d-2d2eb4a0fb05"
   },
   "outputs": [
    {
     "name": "stdout",
     "output_type": "stream",
     "text": [
      "Epoch 1/100\n",
      "329/329 [==============================] - 19s 56ms/step - loss: 1.6175 - accuracy: 0.9771 - val_loss: 0.1072 - val_accuracy: 0.9840\n",
      "Epoch 2/100\n",
      "329/329 [==============================] - 16s 49ms/step - loss: 0.1242 - accuracy: 0.9784 - val_loss: 0.0966 - val_accuracy: 0.9840\n",
      "Epoch 3/100\n",
      "329/329 [==============================] - 16s 49ms/step - loss: 0.1168 - accuracy: 0.9784 - val_loss: 0.0939 - val_accuracy: 0.9840\n",
      "Epoch 4/100\n",
      "329/329 [==============================] - 16s 49ms/step - loss: 0.1135 - accuracy: 0.9784 - val_loss: 0.0898 - val_accuracy: 0.9840\n",
      "Epoch 5/100\n",
      "329/329 [==============================] - 16s 49ms/step - loss: 0.1116 - accuracy: 0.9784 - val_loss: 0.0907 - val_accuracy: 0.9840\n",
      "Epoch 6/100\n",
      "329/329 [==============================] - 16s 50ms/step - loss: 0.1108 - accuracy: 0.9784 - val_loss: 0.0910 - val_accuracy: 0.9840\n",
      "Epoch 7/100\n",
      "329/329 [==============================] - 17s 50ms/step - loss: 0.1100 - accuracy: 0.9784 - val_loss: 0.0933 - val_accuracy: 0.9840\n",
      "Epoch 8/100\n",
      "329/329 [==============================] - 16s 49ms/step - loss: 0.1097 - accuracy: 0.9784 - val_loss: 0.0881 - val_accuracy: 0.9840\n",
      "Epoch 9/100\n",
      "329/329 [==============================] - 16s 49ms/step - loss: 0.1098 - accuracy: 0.9784 - val_loss: 0.0884 - val_accuracy: 0.9840\n",
      "Epoch 10/100\n",
      "329/329 [==============================] - 18s 55ms/step - loss: 0.1110 - accuracy: 0.9784 - val_loss: 0.0865 - val_accuracy: 0.9840\n",
      "Epoch 11/100\n",
      "329/329 [==============================] - 16s 49ms/step - loss: 0.1083 - accuracy: 0.9784 - val_loss: 0.0862 - val_accuracy: 0.9840\n",
      "Epoch 12/100\n",
      "329/329 [==============================] - 17s 50ms/step - loss: 0.1081 - accuracy: 0.9784 - val_loss: 0.0856 - val_accuracy: 0.9840\n",
      "Epoch 13/100\n",
      "329/329 [==============================] - 16s 50ms/step - loss: 0.1084 - accuracy: 0.9784 - val_loss: 0.0854 - val_accuracy: 0.9840\n",
      "Epoch 14/100\n",
      "329/329 [==============================] - 16s 50ms/step - loss: 0.1084 - accuracy: 0.9784 - val_loss: 0.0881 - val_accuracy: 0.9840\n",
      "Epoch 15/100\n",
      "329/329 [==============================] - 16s 50ms/step - loss: 0.1080 - accuracy: 0.9784 - val_loss: 0.0850 - val_accuracy: 0.9840\n",
      "Epoch 16/100\n",
      "329/329 [==============================] - 16s 49ms/step - loss: 0.1081 - accuracy: 0.9784 - val_loss: 0.0849 - val_accuracy: 0.9840\n",
      "Epoch 17/100\n",
      "329/329 [==============================] - 17s 51ms/step - loss: 0.1091 - accuracy: 0.9784 - val_loss: 0.0868 - val_accuracy: 0.9840\n",
      "Epoch 18/100\n",
      "329/329 [==============================] - 18s 56ms/step - loss: 0.1073 - accuracy: 0.9784 - val_loss: 0.0894 - val_accuracy: 0.9840\n",
      "Epoch 19/100\n",
      "329/329 [==============================] - 16s 50ms/step - loss: 0.1082 - accuracy: 0.9784 - val_loss: 0.0865 - val_accuracy: 0.9840\n",
      "Epoch 20/100\n",
      "329/329 [==============================] - 16s 50ms/step - loss: 0.1074 - accuracy: 0.9784 - val_loss: 0.0854 - val_accuracy: 0.9840\n",
      "Epoch 21/100\n",
      "329/329 [==============================] - 17s 50ms/step - loss: 0.1074 - accuracy: 0.9784 - val_loss: 0.0850 - val_accuracy: 0.9840\n",
      "Epoch 22/100\n",
      "329/329 [==============================] - 16s 50ms/step - loss: 0.1074 - accuracy: 0.9784 - val_loss: 0.0868 - val_accuracy: 0.9840\n",
      "Epoch 23/100\n",
      "329/329 [==============================] - 17s 50ms/step - loss: 0.1080 - accuracy: 0.9784 - val_loss: 0.0845 - val_accuracy: 0.9840\n",
      "Epoch 24/100\n",
      "329/329 [==============================] - 16s 49ms/step - loss: 0.1085 - accuracy: 0.9784 - val_loss: 0.0915 - val_accuracy: 0.9840\n",
      "Epoch 25/100\n",
      "329/329 [==============================] - 16s 50ms/step - loss: 0.1089 - accuracy: 0.9784 - val_loss: 0.0855 - val_accuracy: 0.9840\n",
      "Epoch 26/100\n",
      "329/329 [==============================] - 17s 53ms/step - loss: 0.1072 - accuracy: 0.9784 - val_loss: 0.0877 - val_accuracy: 0.9840\n",
      "Epoch 27/100\n",
      "329/329 [==============================] - 17s 50ms/step - loss: 0.1075 - accuracy: 0.9784 - val_loss: 0.0845 - val_accuracy: 0.9840\n",
      "Epoch 28/100\n",
      "329/329 [==============================] - 16s 49ms/step - loss: 0.1071 - accuracy: 0.9784 - val_loss: 0.0843 - val_accuracy: 0.9840\n",
      "Epoch 29/100\n",
      "329/329 [==============================] - 16s 49ms/step - loss: 0.1070 - accuracy: 0.9784 - val_loss: 0.0849 - val_accuracy: 0.9840\n",
      "Epoch 30/100\n",
      "329/329 [==============================] - 16s 49ms/step - loss: 0.1075 - accuracy: 0.9784 - val_loss: 0.0867 - val_accuracy: 0.9840\n",
      "Epoch 31/100\n",
      "329/329 [==============================] - 16s 49ms/step - loss: 0.1076 - accuracy: 0.9784 - val_loss: 0.0846 - val_accuracy: 0.9840\n",
      "Epoch 32/100\n",
      "329/329 [==============================] - 16s 50ms/step - loss: 0.1075 - accuracy: 0.9784 - val_loss: 0.0862 - val_accuracy: 0.9840\n",
      "Epoch 33/100\n",
      "329/329 [==============================] - 16s 49ms/step - loss: 0.1073 - accuracy: 0.9784 - val_loss: 0.0964 - val_accuracy: 0.9840\n",
      "Epoch 34/100\n",
      "329/329 [==============================] - 16s 49ms/step - loss: 0.1073 - accuracy: 0.9784 - val_loss: 0.0860 - val_accuracy: 0.9840\n",
      "Epoch 35/100\n",
      "329/329 [==============================] - 18s 55ms/step - loss: 0.1069 - accuracy: 0.9784 - val_loss: 0.0841 - val_accuracy: 0.9840\n",
      "Epoch 36/100\n",
      "329/329 [==============================] - 17s 51ms/step - loss: 0.1072 - accuracy: 0.9784 - val_loss: 0.0842 - val_accuracy: 0.9840\n",
      "Epoch 37/100\n",
      "329/329 [==============================] - 17s 51ms/step - loss: 0.1071 - accuracy: 0.9784 - val_loss: 0.0841 - val_accuracy: 0.9840\n",
      "Epoch 38/100\n",
      "329/329 [==============================] - 16s 50ms/step - loss: 0.1073 - accuracy: 0.9784 - val_loss: 0.0880 - val_accuracy: 0.9840\n",
      "Epoch 39/100\n",
      "329/329 [==============================] - 16s 50ms/step - loss: 0.1074 - accuracy: 0.9784 - val_loss: 0.0840 - val_accuracy: 0.9840\n",
      "Epoch 40/100\n",
      "329/329 [==============================] - 16s 49ms/step - loss: 0.1069 - accuracy: 0.9784 - val_loss: 0.0843 - val_accuracy: 0.9840\n",
      "Epoch 41/100\n",
      "329/329 [==============================] - 16s 50ms/step - loss: 0.1068 - accuracy: 0.9784 - val_loss: 0.0883 - val_accuracy: 0.9840\n",
      "Epoch 42/100\n",
      "329/329 [==============================] - 16s 50ms/step - loss: 0.1070 - accuracy: 0.9784 - val_loss: 0.0858 - val_accuracy: 0.9840\n",
      "Epoch 43/100\n",
      "329/329 [==============================] - 19s 57ms/step - loss: 0.1071 - accuracy: 0.9784 - val_loss: 0.0882 - val_accuracy: 0.9840\n",
      "Epoch 44/100\n",
      "329/329 [==============================] - 17s 50ms/step - loss: 0.1073 - accuracy: 0.9784 - val_loss: 0.0841 - val_accuracy: 0.9840\n",
      "Epoch 45/100\n",
      "329/329 [==============================] - 17s 51ms/step - loss: 0.1070 - accuracy: 0.9784 - val_loss: 0.0867 - val_accuracy: 0.9840\n",
      "Epoch 46/100\n",
      "329/329 [==============================] - 17s 51ms/step - loss: 0.1068 - accuracy: 0.9784 - val_loss: 0.0844 - val_accuracy: 0.9840\n",
      "Epoch 47/100\n",
      "329/329 [==============================] - 17s 51ms/step - loss: 0.1074 - accuracy: 0.9784 - val_loss: 0.0866 - val_accuracy: 0.9840\n",
      "Epoch 48/100\n",
      "329/329 [==============================] - 16s 49ms/step - loss: 0.1070 - accuracy: 0.9784 - val_loss: 0.0839 - val_accuracy: 0.9840\n",
      "Epoch 49/100\n",
      "329/329 [==============================] - 16s 50ms/step - loss: 0.1069 - accuracy: 0.9784 - val_loss: 0.0852 - val_accuracy: 0.9840\n",
      "Epoch 50/100\n",
      "329/329 [==============================] - 16s 50ms/step - loss: 0.1084 - accuracy: 0.9784 - val_loss: 0.0857 - val_accuracy: 0.9840\n",
      "Epoch 51/100\n",
      "329/329 [==============================] - 16s 50ms/step - loss: 0.1071 - accuracy: 0.9784 - val_loss: 0.0843 - val_accuracy: 0.9840\n",
      "Epoch 52/100\n",
      "329/329 [==============================] - 18s 55ms/step - loss: 0.1072 - accuracy: 0.9784 - val_loss: 0.0839 - val_accuracy: 0.9840\n",
      "Epoch 53/100\n",
      "329/329 [==============================] - 17s 50ms/step - loss: 0.1067 - accuracy: 0.9784 - val_loss: 0.0844 - val_accuracy: 0.9840\n",
      "Epoch 54/100\n",
      "329/329 [==============================] - 17s 50ms/step - loss: 0.1075 - accuracy: 0.9784 - val_loss: 0.0847 - val_accuracy: 0.9840\n",
      "Epoch 55/100\n",
      "329/329 [==============================] - 16s 49ms/step - loss: 0.1066 - accuracy: 0.9784 - val_loss: 0.0849 - val_accuracy: 0.9840\n",
      "Epoch 56/100\n",
      "329/329 [==============================] - 17s 51ms/step - loss: 0.1068 - accuracy: 0.9784 - val_loss: 0.0858 - val_accuracy: 0.9840\n",
      "Epoch 57/100\n",
      "329/329 [==============================] - 17s 52ms/step - loss: 0.1067 - accuracy: 0.9784 - val_loss: 0.0844 - val_accuracy: 0.9840\n",
      "Epoch 58/100\n",
      "329/329 [==============================] - 17s 50ms/step - loss: 0.1067 - accuracy: 0.9784 - val_loss: 0.0852 - val_accuracy: 0.9840\n",
      "Epoch 59/100\n",
      "329/329 [==============================] - 16s 50ms/step - loss: 0.1067 - accuracy: 0.9784 - val_loss: 0.0842 - val_accuracy: 0.9840\n",
      "Epoch 60/100\n",
      "329/329 [==============================] - 18s 56ms/step - loss: 0.1069 - accuracy: 0.9784 - val_loss: 0.0836 - val_accuracy: 0.9840\n",
      "Epoch 61/100\n",
      "329/329 [==============================] - 16s 50ms/step - loss: 0.1070 - accuracy: 0.9784 - val_loss: 0.0836 - val_accuracy: 0.9840\n",
      "Epoch 62/100\n",
      "329/329 [==============================] - 16s 49ms/step - loss: 0.1074 - accuracy: 0.9784 - val_loss: 0.0838 - val_accuracy: 0.9840\n",
      "Epoch 63/100\n",
      "329/329 [==============================] - 16s 49ms/step - loss: 0.1068 - accuracy: 0.9784 - val_loss: 0.0840 - val_accuracy: 0.9840\n",
      "Epoch 64/100\n",
      "329/329 [==============================] - 16s 49ms/step - loss: 0.1066 - accuracy: 0.9784 - val_loss: 0.0836 - val_accuracy: 0.9840\n",
      "Epoch 65/100\n",
      "329/329 [==============================] - 16s 49ms/step - loss: 0.1062 - accuracy: 0.9784 - val_loss: 0.0837 - val_accuracy: 0.9840\n",
      "Epoch 66/100\n",
      "329/329 [==============================] - 16s 49ms/step - loss: 0.1071 - accuracy: 0.9784 - val_loss: 0.0870 - val_accuracy: 0.9840\n",
      "Epoch 67/100\n",
      "329/329 [==============================] - 16s 50ms/step - loss: 0.1066 - accuracy: 0.9784 - val_loss: 0.0836 - val_accuracy: 0.9840\n",
      "Epoch 68/100\n",
      "329/329 [==============================] - 18s 56ms/step - loss: 0.1068 - accuracy: 0.9784 - val_loss: 0.0835 - val_accuracy: 0.9840\n",
      "Epoch 69/100\n",
      "329/329 [==============================] - 16s 49ms/step - loss: 0.1068 - accuracy: 0.9784 - val_loss: 0.0843 - val_accuracy: 0.9840\n",
      "Epoch 70/100\n",
      "329/329 [==============================] - 16s 49ms/step - loss: 0.1066 - accuracy: 0.9784 - val_loss: 0.0851 - val_accuracy: 0.9840\n",
      "Epoch 71/100\n",
      "329/329 [==============================] - 16s 50ms/step - loss: 0.1064 - accuracy: 0.9784 - val_loss: 0.0837 - val_accuracy: 0.9840\n",
      "Epoch 72/100\n",
      "329/329 [==============================] - 17s 50ms/step - loss: 0.1060 - accuracy: 0.9784 - val_loss: 0.0844 - val_accuracy: 0.9840\n",
      "Epoch 73/100\n",
      "329/329 [==============================] - 16s 49ms/step - loss: 0.1063 - accuracy: 0.9784 - val_loss: 0.0853 - val_accuracy: 0.9840\n",
      "Epoch 74/100\n",
      "329/329 [==============================] - 16s 49ms/step - loss: 0.1064 - accuracy: 0.9784 - val_loss: 0.0835 - val_accuracy: 0.9840\n",
      "Epoch 75/100\n",
      "329/329 [==============================] - 16s 50ms/step - loss: 0.1071 - accuracy: 0.9784 - val_loss: 0.0859 - val_accuracy: 0.9840\n",
      "Epoch 76/100\n",
      "329/329 [==============================] - 16s 49ms/step - loss: 0.1066 - accuracy: 0.9784 - val_loss: 0.0837 - val_accuracy: 0.9840\n",
      "Epoch 77/100\n",
      "329/329 [==============================] - 18s 54ms/step - loss: 0.1069 - accuracy: 0.9784 - val_loss: 0.0849 - val_accuracy: 0.9840\n",
      "Epoch 78/100\n",
      "329/329 [==============================] - 16s 49ms/step - loss: 0.1064 - accuracy: 0.9784 - val_loss: 0.0839 - val_accuracy: 0.9840\n",
      "Epoch 79/100\n",
      "329/329 [==============================] - 16s 49ms/step - loss: 0.1067 - accuracy: 0.9784 - val_loss: 0.0841 - val_accuracy: 0.9840\n",
      "Epoch 80/100\n",
      "329/329 [==============================] - 16s 49ms/step - loss: 0.1061 - accuracy: 0.9784 - val_loss: 0.0882 - val_accuracy: 0.9840\n",
      "Epoch 81/100\n",
      "329/329 [==============================] - 16s 49ms/step - loss: 0.1061 - accuracy: 0.9784 - val_loss: 0.0840 - val_accuracy: 0.9840\n",
      "Epoch 82/100\n",
      "329/329 [==============================] - 16s 49ms/step - loss: 0.1066 - accuracy: 0.9784 - val_loss: 0.0838 - val_accuracy: 0.9840\n",
      "Epoch 83/100\n",
      "329/329 [==============================] - 16s 49ms/step - loss: 0.1080 - accuracy: 0.9784 - val_loss: 0.0861 - val_accuracy: 0.9840\n",
      "Epoch 84/100\n",
      "329/329 [==============================] - 16s 49ms/step - loss: 0.1067 - accuracy: 0.9784 - val_loss: 0.0840 - val_accuracy: 0.9840\n",
      "Epoch 85/100\n",
      "329/329 [==============================] - 18s 56ms/step - loss: 0.1058 - accuracy: 0.9784 - val_loss: 0.0836 - val_accuracy: 0.9840\n",
      "Epoch 86/100\n",
      "329/329 [==============================] - 17s 50ms/step - loss: 0.1069 - accuracy: 0.9784 - val_loss: 0.0834 - val_accuracy: 0.9840\n",
      "Epoch 87/100\n",
      "329/329 [==============================] - 16s 50ms/step - loss: 0.1064 - accuracy: 0.9784 - val_loss: 0.0853 - val_accuracy: 0.9840\n",
      "Epoch 88/100\n",
      "329/329 [==============================] - 16s 50ms/step - loss: 0.1070 - accuracy: 0.9784 - val_loss: 0.0848 - val_accuracy: 0.9840\n",
      "Epoch 89/100\n",
      "329/329 [==============================] - 16s 50ms/step - loss: 0.1065 - accuracy: 0.9784 - val_loss: 0.0838 - val_accuracy: 0.9840\n",
      "Epoch 90/100\n",
      "329/329 [==============================] - 17s 52ms/step - loss: 0.1060 - accuracy: 0.9784 - val_loss: 0.0835 - val_accuracy: 0.9840\n",
      "Epoch 91/100\n",
      "329/329 [==============================] - 17s 51ms/step - loss: 0.1062 - accuracy: 0.9784 - val_loss: 0.0834 - val_accuracy: 0.9840\n",
      "Epoch 92/100\n",
      "329/329 [==============================] - 17s 50ms/step - loss: 0.1064 - accuracy: 0.9784 - val_loss: 0.0836 - val_accuracy: 0.9840\n",
      "Epoch 93/100\n",
      "329/329 [==============================] - 19s 57ms/step - loss: 0.1066 - accuracy: 0.9784 - val_loss: 0.0834 - val_accuracy: 0.9840\n",
      "Epoch 94/100\n",
      "329/329 [==============================] - 17s 51ms/step - loss: 0.1070 - accuracy: 0.9784 - val_loss: 0.0839 - val_accuracy: 0.9840\n",
      "Epoch 95/100\n",
      "329/329 [==============================] - 17s 51ms/step - loss: 0.1062 - accuracy: 0.9784 - val_loss: 0.0834 - val_accuracy: 0.9840\n",
      "Epoch 96/100\n",
      "329/329 [==============================] - 16s 49ms/step - loss: 0.1063 - accuracy: 0.9784 - val_loss: 0.0841 - val_accuracy: 0.9840\n",
      "Epoch 97/100\n",
      "329/329 [==============================] - 16s 50ms/step - loss: 0.1063 - accuracy: 0.9784 - val_loss: 0.0844 - val_accuracy: 0.9840\n",
      "Epoch 98/100\n",
      "329/329 [==============================] - 16s 49ms/step - loss: 0.1059 - accuracy: 0.9784 - val_loss: 0.0849 - val_accuracy: 0.9840\n",
      "Epoch 99/100\n",
      "329/329 [==============================] - 16s 49ms/step - loss: 0.1059 - accuracy: 0.9784 - val_loss: 0.0834 - val_accuracy: 0.9840\n",
      "Epoch 100/100\n",
      "329/329 [==============================] - 16s 49ms/step - loss: 0.1065 - accuracy: 0.9784 - val_loss: 0.0862 - val_accuracy: 0.9840\n"
     ]
    }
   ],
   "source": [
    "model_3.compile(optimizer='adam',\n",
    "              loss='binary_crossentropy',\n",
    "              metrics=['accuracy'])\n",
    "              \n",
    "hist_3 = model_3.fit(X_train, Y_train,\n",
    "          batch_size=32, epochs=100,\n",
    "          validation_data=(X_val, Y_val))"
   ]
  },
  {
   "cell_type": "code",
   "execution_count": null,
   "metadata": {
    "colab": {
     "base_uri": "https://localhost:8080/",
     "height": 295
    },
    "id": "WEq-4JX5Ach0",
    "outputId": "945bb1e8-cc3e-4ac2-c92a-869b9be25d73"
   },
   "outputs": [
    {
     "data": {
      "image/png": "[encoded data removed]",
      "text/plain": [
       "<Figure size 432x288 with 1 Axes>"
      ]
     },
     "metadata": {
      "needs_background": "light"
     },
     "output_type": "display_data"
    }
   ],
   "source": [
    "plt.plot(hist_3.history['loss'])\n",
    "plt.plot(hist_3.history['val_loss'])\n",
    "plt.title('Model loss')\n",
    "plt.ylabel('Loss')\n",
    "plt.xlabel('Epoch')\n",
    "plt.legend(['Train', 'Val'], loc='upper right')\n",
    "plt.ylim(top=1.2, bottom=0)\n",
    "plt.show()"
   ]
  },
  {
   "cell_type": "code",
   "execution_count": null,
   "metadata": {
    "colab": {
     "base_uri": "https://localhost:8080/",
     "height": 295
    },
    "id": "tZJEbLXaBYeO",
    "outputId": "76accb4b-f3f2-44df-bc08-9eec2e099877"
   },
   "outputs": [
    {
     "data": {
      "image/png": "[encoded data removed]",
      "text/plain": [
       "<Figure size 432x288 with 1 Axes>"
      ]
     },
     "metadata": {
      "needs_background": "light"
     },
     "output_type": "display_data"
    }
   ],
   "source": [
    "plt.plot(hist_3.history['accuracy'])\n",
    "plt.plot(hist_3.history['val_accuracy'])\n",
    "\n",
    "plt.title('Model accuracy')\n",
    "plt.ylabel('Accuracy')\n",
    "plt.xlabel('Epoch')\n",
    "plt.legend(['Train', 'Val'], loc='lower right')\n",
    "plt.show()"
   ]
  },
  {
   "cell_type": "code",
   "execution_count": null,
   "metadata": {
    "id": "NgoAfroJBcoH"
   },
   "outputs": [],
   "source": []
  }
 ],
 "metadata": {
  "colab": {
   "collapsed_sections": [],
   "name": "1 annusingbackpropagation.ipynb",
   "provenance": []
  },
  "kernelspec": {
   "display_name": "Python 3 (ipykernel)",
   "language": "python",
   "name": "python3"
  },
  "language_info": {
   "codemirror_mode": {
    "name": "ipython",
    "version": 3
   },
   "file_extension": ".py",
   "mimetype": "text/x-python",
   "name": "python",
   "nbconvert_exporter": "python",
   "pygments_lexer": "ipython3",
   "version": "3.7.13"
  }
 },
 "nbformat": 4,
 "nbformat_minor": 1
}
