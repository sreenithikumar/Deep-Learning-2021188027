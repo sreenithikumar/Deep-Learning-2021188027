{
 "cells": [
  {
   "cell_type": "code",
   "execution_count": 1,
   "id": "04b8f35c",
   "metadata": {},
   "outputs": [],
   "source": [
    "import numpy as np\n",
    "import pandas as pd\n",
    "#from sklearn import preprocessing\n",
    "import matplotlib.pyplot as plt\n",
    "from sklearn.model_selection import train_test_split\n",
    "from sklearn.neural_network import MLPClassifier\n",
    "from sklearn.metrics import accuracy_score\n",
    "from sklearn.metrics import confusion_matrix"
   ]
  },
  {
   "cell_type": "code",
   "execution_count": 2,
   "id": "b9b77875",
   "metadata": {},
   "outputs": [
    {
     "data": {
      "text/html": [
       "<div>\n",
       "<style scoped>\n",
       "    .dataframe tbody tr th:only-of-type {\n",
       "        vertical-align: middle;\n",
       "    }\n",
       "\n",
       "    .dataframe tbody tr th {\n",
       "        vertical-align: top;\n",
       "    }\n",
       "\n",
       "    .dataframe thead th {\n",
       "        text-align: right;\n",
       "    }\n",
       "</style>\n",
       "<table border=\"1\" class=\"dataframe\">\n",
       "  <thead>\n",
       "    <tr style=\"text-align: right;\">\n",
       "      <th></th>\n",
       "      <th>0</th>\n",
       "      <th>1</th>\n",
       "      <th>2</th>\n",
       "      <th>3</th>\n",
       "      <th>4</th>\n",
       "      <th>5</th>\n",
       "      <th>6</th>\n",
       "      <th>7</th>\n",
       "    </tr>\n",
       "  </thead>\n",
       "  <tbody>\n",
       "    <tr>\n",
       "      <th>0</th>\n",
       "      <td>15.26</td>\n",
       "      <td>14.84</td>\n",
       "      <td>0.8710</td>\n",
       "      <td>5.763</td>\n",
       "      <td>3.312</td>\n",
       "      <td>2.221</td>\n",
       "      <td>5.220</td>\n",
       "      <td>1</td>\n",
       "    </tr>\n",
       "    <tr>\n",
       "      <th>1</th>\n",
       "      <td>14.88</td>\n",
       "      <td>14.57</td>\n",
       "      <td>0.8811</td>\n",
       "      <td>5.554</td>\n",
       "      <td>3.333</td>\n",
       "      <td>1.018</td>\n",
       "      <td>4.956</td>\n",
       "      <td>1</td>\n",
       "    </tr>\n",
       "    <tr>\n",
       "      <th>2</th>\n",
       "      <td>14.29</td>\n",
       "      <td>14.09</td>\n",
       "      <td>0.9050</td>\n",
       "      <td>5.291</td>\n",
       "      <td>3.337</td>\n",
       "      <td>2.699</td>\n",
       "      <td>4.825</td>\n",
       "      <td>1</td>\n",
       "    </tr>\n",
       "    <tr>\n",
       "      <th>3</th>\n",
       "      <td>13.84</td>\n",
       "      <td>13.94</td>\n",
       "      <td>0.8955</td>\n",
       "      <td>5.324</td>\n",
       "      <td>3.379</td>\n",
       "      <td>2.259</td>\n",
       "      <td>4.805</td>\n",
       "      <td>1</td>\n",
       "    </tr>\n",
       "    <tr>\n",
       "      <th>4</th>\n",
       "      <td>16.14</td>\n",
       "      <td>14.99</td>\n",
       "      <td>0.9034</td>\n",
       "      <td>5.658</td>\n",
       "      <td>3.562</td>\n",
       "      <td>1.355</td>\n",
       "      <td>5.175</td>\n",
       "      <td>1</td>\n",
       "    </tr>\n",
       "  </tbody>\n",
       "</table>\n",
       "</div>"
      ],
      "text/plain": [
       "       0      1       2      3      4      5      6  7\n",
       "0  15.26  14.84  0.8710  5.763  3.312  2.221  5.220  1\n",
       "1  14.88  14.57  0.8811  5.554  3.333  1.018  4.956  1\n",
       "2  14.29  14.09  0.9050  5.291  3.337  2.699  4.825  1\n",
       "3  13.84  13.94  0.8955  5.324  3.379  2.259  4.805  1\n",
       "4  16.14  14.99  0.9034  5.658  3.562  1.355  5.175  1"
      ]
     },
     "execution_count": 2,
     "metadata": {},
     "output_type": "execute_result"
    }
   ],
   "source": [
    "data=pd.read_csv('seeds.csv', header = None)\n",
    "data.head()"
   ]
  },
  {
   "cell_type": "code",
   "execution_count": 3,
   "id": "9780e14b",
   "metadata": {},
   "outputs": [
    {
     "data": {
      "text/plain": [
       "(210, 8)"
      ]
     },
     "execution_count": 3,
     "metadata": {},
     "output_type": "execute_result"
    }
   ],
   "source": [
    "data.shape"
   ]
  },
  {
   "cell_type": "code",
   "execution_count": 4,
   "id": "af37a2a9",
   "metadata": {},
   "outputs": [
    {
     "name": "stdout",
     "output_type": "stream",
     "text": [
      "<class 'pandas.core.frame.DataFrame'>\n",
      "RangeIndex: 210 entries, 0 to 209\n",
      "Data columns (total 8 columns):\n",
      " #   Column  Non-Null Count  Dtype  \n",
      "---  ------  --------------  -----  \n",
      " 0   0       210 non-null    float64\n",
      " 1   1       210 non-null    float64\n",
      " 2   2       210 non-null    float64\n",
      " 3   3       210 non-null    float64\n",
      " 4   4       210 non-null    float64\n",
      " 5   5       210 non-null    float64\n",
      " 6   6       210 non-null    float64\n",
      " 7   7       210 non-null    int64  \n",
      "dtypes: float64(7), int64(1)\n",
      "memory usage: 13.2 KB\n"
     ]
    }
   ],
   "source": [
    "data.info()"
   ]
  },
  {
   "cell_type": "code",
   "execution_count": 5,
   "id": "63389a30",
   "metadata": {},
   "outputs": [],
   "source": [
    "X=data[[0,1,2,3,4,5,6]]\n",
    "y=data[7]"
   ]
  },
  {
   "cell_type": "code",
   "execution_count": 6,
   "id": "0eadd3ff",
   "metadata": {},
   "outputs": [],
   "source": [
    "X_train, X_test, y_train, y_test = train_test_split(X, y, test_size=0.2, random_state=0)"
   ]
  },
  {
   "cell_type": "code",
   "execution_count": 7,
   "id": "f8274fda",
   "metadata": {},
   "outputs": [],
   "source": [
    "clf = MLPClassifier(hidden_layer_sizes=(6,9), random_state=5, verbose=True, learning_rate_init=0.01, max_iter = 200)"
   ]
  },
  {
   "cell_type": "code",
   "execution_count": 8,
   "id": "2c211286",
   "metadata": {},
   "outputs": [
    {
     "name": "stdout",
     "output_type": "stream",
     "text": [
      "Iteration 1, loss = 7.22482117\n",
      "Iteration 2, loss = 5.84554490\n",
      "Iteration 3, loss = 4.60727071\n",
      "Iteration 4, loss = 3.51913620\n",
      "Iteration 5, loss = 2.61245103\n",
      "Iteration 6, loss = 1.95369517\n",
      "Iteration 7, loss = 1.57034941\n",
      "Iteration 8, loss = 1.39197443\n",
      "Iteration 9, loss = 1.32167660\n",
      "Iteration 10, loss = 1.28874965\n",
      "Iteration 11, loss = 1.26163372\n",
      "Iteration 12, loss = 1.23249905\n",
      "Iteration 13, loss = 1.20040277\n",
      "Iteration 14, loss = 1.16776740\n",
      "Iteration 15, loss = 1.13681421\n",
      "Iteration 16, loss = 1.11033801\n",
      "Iteration 17, loss = 1.08619780\n",
      "Iteration 18, loss = 1.06485132\n",
      "Iteration 19, loss = 1.04882365\n",
      "Iteration 20, loss = 1.03691180\n",
      "Iteration 21, loss = 1.02937872\n",
      "Iteration 22, loss = 1.02346763\n",
      "Iteration 23, loss = 1.01633017\n",
      "Iteration 24, loss = 1.00881195\n",
      "Iteration 25, loss = 1.00239984\n",
      "Iteration 26, loss = 0.99515192\n",
      "Iteration 27, loss = 0.98759825\n",
      "Iteration 28, loss = 0.98091980\n",
      "Iteration 29, loss = 0.97449943\n",
      "Iteration 30, loss = 0.96759278\n",
      "Iteration 31, loss = 0.96021585\n",
      "Iteration 32, loss = 0.95263119\n",
      "Iteration 33, loss = 0.94546805\n",
      "Iteration 34, loss = 0.93940880\n",
      "Iteration 35, loss = 0.93383873\n",
      "Iteration 36, loss = 0.92831925\n",
      "Iteration 37, loss = 0.92218765\n",
      "Iteration 38, loss = 0.91541948\n",
      "Iteration 39, loss = 0.90833220\n",
      "Iteration 40, loss = 0.90128725\n",
      "Iteration 41, loss = 0.89467545\n",
      "Iteration 42, loss = 0.88809542\n",
      "Iteration 43, loss = 0.88209451\n",
      "Iteration 44, loss = 0.87600606\n",
      "Iteration 45, loss = 0.86906000\n",
      "Iteration 46, loss = 0.86151182\n",
      "Iteration 47, loss = 0.85348910\n",
      "Iteration 48, loss = 0.84526414\n",
      "Iteration 49, loss = 0.83668086\n",
      "Iteration 50, loss = 0.82735568\n",
      "Iteration 51, loss = 0.81787296\n",
      "Iteration 52, loss = 0.80816138\n",
      "Iteration 53, loss = 0.79758944\n",
      "Iteration 54, loss = 0.78639937\n",
      "Iteration 55, loss = 0.77441068\n",
      "Iteration 56, loss = 0.75988689\n",
      "Iteration 57, loss = 0.74353653\n",
      "Iteration 58, loss = 0.72631666\n",
      "Iteration 59, loss = 0.71041711\n",
      "Iteration 60, loss = 0.69357611\n",
      "Iteration 61, loss = 0.67628344\n",
      "Iteration 62, loss = 0.65925388\n",
      "Iteration 63, loss = 0.64320379\n",
      "Iteration 64, loss = 0.62895691\n",
      "Iteration 65, loss = 0.61672120\n",
      "Iteration 66, loss = 0.60530561\n",
      "Iteration 67, loss = 0.59592679\n",
      "Iteration 68, loss = 0.58695065\n",
      "Iteration 69, loss = 0.57692582\n",
      "Iteration 70, loss = 0.56590064\n",
      "Iteration 71, loss = 0.55419877\n",
      "Iteration 72, loss = 0.54180129\n",
      "Iteration 73, loss = 0.52882639\n",
      "Iteration 74, loss = 0.51620614\n",
      "Iteration 75, loss = 0.50427385\n",
      "Iteration 76, loss = 0.49506051\n",
      "Iteration 77, loss = 0.48850088\n",
      "Iteration 78, loss = 0.48273325\n",
      "Iteration 79, loss = 0.47634137\n",
      "Iteration 80, loss = 0.46857970\n",
      "Iteration 81, loss = 0.45964491\n",
      "Iteration 82, loss = 0.45022388\n",
      "Iteration 83, loss = 0.44117866\n",
      "Iteration 84, loss = 0.43302565\n",
      "Iteration 85, loss = 0.42581933\n",
      "Iteration 86, loss = 0.41975388\n",
      "Iteration 87, loss = 0.41415766\n",
      "Iteration 88, loss = 0.40842610\n",
      "Iteration 89, loss = 0.40221517\n",
      "Iteration 90, loss = 0.39534256\n",
      "Iteration 91, loss = 0.38779552\n",
      "Iteration 92, loss = 0.37990268\n",
      "Iteration 93, loss = 0.37126553\n",
      "Iteration 94, loss = 0.36239289\n",
      "Iteration 95, loss = 0.35676052\n",
      "Iteration 96, loss = 0.34980835\n",
      "Iteration 97, loss = 0.34205540\n",
      "Iteration 98, loss = 0.33620065\n",
      "Iteration 99, loss = 0.33234754\n",
      "Iteration 100, loss = 0.32525925\n",
      "Iteration 101, loss = 0.31807391\n",
      "Iteration 102, loss = 0.31162595\n",
      "Iteration 103, loss = 0.30591288\n",
      "Iteration 104, loss = 0.30251176\n",
      "Iteration 105, loss = 0.29795243\n",
      "Iteration 106, loss = 0.29463666\n",
      "Iteration 107, loss = 0.29070243\n",
      "Iteration 108, loss = 0.28660603\n",
      "Iteration 109, loss = 0.28364224\n",
      "Iteration 110, loss = 0.27991908\n",
      "Iteration 111, loss = 0.27763533\n",
      "Iteration 112, loss = 0.27437092\n",
      "Iteration 113, loss = 0.27193145\n",
      "Iteration 114, loss = 0.26891072\n",
      "Iteration 115, loss = 0.26603796\n",
      "Iteration 116, loss = 0.26335037\n",
      "Iteration 117, loss = 0.26068986\n",
      "Iteration 118, loss = 0.25838127\n",
      "Iteration 119, loss = 0.25579055\n",
      "Iteration 120, loss = 0.25337838\n",
      "Iteration 121, loss = 0.25071666\n",
      "Iteration 122, loss = 0.24830658\n",
      "Iteration 123, loss = 0.24594740\n",
      "Iteration 124, loss = 0.24382211\n",
      "Iteration 125, loss = 0.24155500\n",
      "Iteration 126, loss = 0.23930811\n",
      "Iteration 127, loss = 0.23702965\n",
      "Iteration 128, loss = 0.23494878\n",
      "Iteration 129, loss = 0.23290012\n",
      "Iteration 130, loss = 0.23082937\n",
      "Iteration 131, loss = 0.22878482\n",
      "Iteration 132, loss = 0.22671620\n",
      "Iteration 133, loss = 0.22474134\n",
      "Iteration 134, loss = 0.22279110\n",
      "Iteration 135, loss = 0.22096639\n",
      "Iteration 136, loss = 0.21913693\n",
      "Iteration 137, loss = 0.21736490\n",
      "Iteration 138, loss = 0.21558561\n",
      "Iteration 139, loss = 0.21390889\n",
      "Iteration 140, loss = 0.21228328\n",
      "Iteration 141, loss = 0.21074183\n",
      "Iteration 142, loss = 0.20925789\n",
      "Iteration 143, loss = 0.20779573\n",
      "Iteration 144, loss = 0.20653454\n",
      "Iteration 145, loss = 0.20584935\n",
      "Iteration 146, loss = 0.20452832\n",
      "Iteration 147, loss = 0.20303301\n",
      "Iteration 148, loss = 0.20167037\n",
      "Iteration 149, loss = 0.20092570\n",
      "Iteration 150, loss = 0.19954876\n",
      "Iteration 151, loss = 0.19834375\n",
      "Iteration 152, loss = 0.19762405\n",
      "Iteration 153, loss = 0.19660906\n",
      "Iteration 154, loss = 0.19519933\n",
      "Iteration 155, loss = 0.19492756\n",
      "Iteration 156, loss = 0.19396239\n",
      "Iteration 157, loss = 0.19254447\n",
      "Iteration 158, loss = 0.19215139\n",
      "Iteration 159, loss = 0.19114146\n",
      "Iteration 160, loss = 0.19016776\n",
      "Iteration 161, loss = 0.18958413\n",
      "Iteration 162, loss = 0.18877537\n",
      "Iteration 163, loss = 0.18796577\n",
      "Iteration 164, loss = 0.18736971\n",
      "Iteration 165, loss = 0.18657175\n",
      "Iteration 166, loss = 0.18586328\n",
      "Iteration 167, loss = 0.18528095\n",
      "Iteration 168, loss = 0.18457051\n",
      "Iteration 169, loss = 0.18396985\n",
      "Iteration 170, loss = 0.18342992\n",
      "Iteration 171, loss = 0.18272767\n",
      "Iteration 172, loss = 0.18212419\n",
      "Iteration 173, loss = 0.18158785\n",
      "Iteration 174, loss = 0.18097987\n",
      "Iteration 175, loss = 0.18036332\n",
      "Iteration 176, loss = 0.17991247\n",
      "Iteration 177, loss = 0.17972892\n",
      "Iteration 178, loss = 0.17884856\n",
      "Iteration 179, loss = 0.17818750\n",
      "Iteration 180, loss = 0.17774751\n",
      "Iteration 181, loss = 0.17728868\n",
      "Iteration 182, loss = 0.17683084\n",
      "Iteration 183, loss = 0.17632003\n",
      "Iteration 184, loss = 0.17584040\n",
      "Iteration 185, loss = 0.17540821\n",
      "Iteration 186, loss = 0.17499093\n",
      "Iteration 187, loss = 0.17456105\n",
      "Iteration 188, loss = 0.17404201\n",
      "Iteration 189, loss = 0.17345228\n",
      "Iteration 190, loss = 0.17297318\n",
      "Iteration 191, loss = 0.17246845\n",
      "Iteration 192, loss = 0.17199318\n",
      "Iteration 193, loss = 0.17156207\n",
      "Iteration 194, loss = 0.17116058\n",
      "Iteration 195, loss = 0.17078052\n",
      "Iteration 196, loss = 0.17044855\n",
      "Iteration 197, loss = 0.17046660\n",
      "Iteration 198, loss = 0.17055854\n",
      "Iteration 199, loss = 0.16971359\n",
      "Iteration 200, loss = 0.16905774\n"
     ]
    },
    {
     "name": "stderr",
     "output_type": "stream",
     "text": [
      "C:\\Users\\SREENITHI\\anaconda3\\lib\\site-packages\\sklearn\\neural_network\\_multilayer_perceptron.py:692: ConvergenceWarning: Stochastic Optimizer: Maximum iterations (200) reached and the optimization hasn't converged yet.\n",
      "  warnings.warn(\n"
     ]
    },
    {
     "data": {
      "text/plain": [
       "MLPClassifier(hidden_layer_sizes=(6, 9), learning_rate_init=0.01,\n",
       "              random_state=5, verbose=True)"
      ]
     },
     "execution_count": 8,
     "metadata": {},
     "output_type": "execute_result"
    }
   ],
   "source": [
    "clf.fit(X_train,y_train)"
   ]
  },
  {
   "cell_type": "code",
   "execution_count": 9,
   "id": "c04205e1",
   "metadata": {},
   "outputs": [],
   "source": [
    "ypred=clf.predict(X_test)"
   ]
  },
  {
   "cell_type": "code",
   "execution_count": 10,
   "id": "3a97fd29",
   "metadata": {},
   "outputs": [
    {
     "data": {
      "text/plain": [
       "0.9285714285714286"
      ]
     },
     "execution_count": 10,
     "metadata": {},
     "output_type": "execute_result"
    }
   ],
   "source": [
    "accuracy_score(y_test,ypred)"
   ]
  },
  {
   "cell_type": "code",
   "execution_count": 11,
   "id": "fc3f5444",
   "metadata": {},
   "outputs": [
    {
     "data": {
      "text/plain": [
       "array([[12,  1,  0],\n",
       "       [ 2, 14,  0],\n",
       "       [ 0,  0, 13]], dtype=int64)"
      ]
     },
     "execution_count": 11,
     "metadata": {},
     "output_type": "execute_result"
    }
   ],
   "source": [
    "confusion_matrix(y_test,ypred)"
   ]
  },
  {
   "cell_type": "code",
   "execution_count": 12,
   "id": "92c28323",
   "metadata": {},
   "outputs": [
    {
     "data": {
      "text/plain": [
       "[<matplotlib.lines.Line2D at 0x1a24fb0cd30>]"
      ]
     },
     "execution_count": 12,
     "metadata": {},
     "output_type": "execute_result"
    },
    {
     "data": {
      "image/png": "[encoded data removed]",
      "text/plain": [
       "<Figure size 432x288 with 1 Axes>"
      ]
     },
     "metadata": {
      "needs_background": "light"
     },
     "output_type": "display_data"
    }
   ],
   "source": [
    "plt.plot(clf.loss_curve_)"
   ]
  },
  {
   "cell_type": "code",
   "execution_count": 61,
   "id": "a6b99c1d",
   "metadata": {},
   "outputs": [],
   "source": [
    "clf2 = MLPClassifier(hidden_layer_sizes=(9,12), random_state=5, verbose=True, learning_rate_init=0.001, max_iter = 200)"
   ]
  },
  {
   "cell_type": "code",
   "execution_count": 63,
   "id": "20dbe208",
   "metadata": {},
   "outputs": [
    {
     "name": "stdout",
     "output_type": "stream",
     "text": [
      "Iteration 1, loss = 2.82795753\n",
      "Iteration 2, loss = 2.75758554\n",
      "Iteration 3, loss = 2.68762499\n",
      "Iteration 4, loss = 2.61783025\n",
      "Iteration 5, loss = 2.54818740\n",
      "Iteration 6, loss = 2.47952042\n",
      "Iteration 7, loss = 2.41224309\n",
      "Iteration 8, loss = 2.34620112\n",
      "Iteration 9, loss = 2.28112397\n",
      "Iteration 10, loss = 2.21694067\n",
      "Iteration 11, loss = 2.15367293\n",
      "Iteration 12, loss = 2.09128459\n",
      "Iteration 13, loss = 2.02939529\n",
      "Iteration 14, loss = 1.96791656\n",
      "Iteration 15, loss = 1.90713351\n",
      "Iteration 16, loss = 1.84708643\n",
      "Iteration 17, loss = 1.78771635\n",
      "Iteration 18, loss = 1.72932043\n",
      "Iteration 19, loss = 1.67188345\n",
      "Iteration 20, loss = 1.61566492\n",
      "Iteration 21, loss = 1.56066491\n",
      "Iteration 22, loss = 1.50710663\n",
      "Iteration 23, loss = 1.45498104\n",
      "Iteration 24, loss = 1.40441655\n",
      "Iteration 25, loss = 1.35551575\n",
      "Iteration 26, loss = 1.30851170\n",
      "Iteration 27, loss = 1.26383180\n",
      "Iteration 28, loss = 1.22173962\n",
      "Iteration 29, loss = 1.18255131\n",
      "Iteration 30, loss = 1.14657160\n",
      "Iteration 31, loss = 1.11408784\n",
      "Iteration 32, loss = 1.08528201\n",
      "Iteration 33, loss = 1.06027610\n",
      "Iteration 34, loss = 1.03907448\n",
      "Iteration 35, loss = 1.02159634\n",
      "Iteration 36, loss = 1.00759744\n",
      "Iteration 37, loss = 0.99674935\n",
      "Iteration 38, loss = 0.98857780\n",
      "Iteration 39, loss = 0.98256991\n",
      "Iteration 40, loss = 0.97821092\n",
      "Iteration 41, loss = 0.97495897\n",
      "Iteration 42, loss = 0.97234798\n",
      "Iteration 43, loss = 0.97004709\n",
      "Iteration 44, loss = 0.96778319\n",
      "Iteration 45, loss = 0.96541325\n",
      "Iteration 46, loss = 0.96265131\n",
      "Iteration 47, loss = 0.95949110\n",
      "Iteration 48, loss = 0.95588106\n",
      "Iteration 49, loss = 0.95184193\n",
      "Iteration 50, loss = 0.94740663\n",
      "Iteration 51, loss = 0.94258503\n",
      "Iteration 52, loss = 0.93747451\n",
      "Iteration 53, loss = 0.93217484\n",
      "Iteration 54, loss = 0.92679278\n",
      "Iteration 55, loss = 0.92145308\n",
      "Iteration 56, loss = 0.91623164\n",
      "Iteration 57, loss = 0.91127379\n",
      "Iteration 58, loss = 0.90664440\n",
      "Iteration 59, loss = 0.90237843\n",
      "Iteration 60, loss = 0.89849958\n",
      "Iteration 61, loss = 0.89498157\n",
      "Iteration 62, loss = 0.89177763\n",
      "Iteration 63, loss = 0.88880218\n",
      "Iteration 64, loss = 0.88598332\n",
      "Iteration 65, loss = 0.88324633\n",
      "Iteration 66, loss = 0.88053891\n",
      "Iteration 67, loss = 0.87782367\n",
      "Iteration 68, loss = 0.87508809\n",
      "Iteration 69, loss = 0.87232084\n",
      "Iteration 70, loss = 0.86950349\n",
      "Iteration 71, loss = 0.86662775\n",
      "Iteration 72, loss = 0.86368809\n",
      "Iteration 73, loss = 0.86068255\n",
      "Iteration 74, loss = 0.85761420\n",
      "Iteration 75, loss = 0.85449229\n",
      "Iteration 76, loss = 0.85133221\n",
      "Iteration 77, loss = 0.84815407\n",
      "Iteration 78, loss = 0.84497999\n",
      "Iteration 79, loss = 0.84183071\n",
      "Iteration 80, loss = 0.83872255\n",
      "Iteration 81, loss = 0.83566534\n",
      "Iteration 82, loss = 0.83266183\n",
      "Iteration 83, loss = 0.82970845\n",
      "Iteration 84, loss = 0.82679885\n",
      "Iteration 85, loss = 0.82392607\n",
      "Iteration 86, loss = 0.82107437\n",
      "Iteration 87, loss = 0.81823471\n",
      "Iteration 88, loss = 0.81540034\n",
      "Iteration 89, loss = 0.81256675\n",
      "Iteration 90, loss = 0.80973120\n",
      "Iteration 91, loss = 0.80689211\n",
      "Iteration 92, loss = 0.80404865\n",
      "Iteration 93, loss = 0.80120059\n",
      "Iteration 94, loss = 0.79834895\n",
      "Iteration 95, loss = 0.79549689\n",
      "Iteration 96, loss = 0.79264257\n",
      "Iteration 97, loss = 0.78979022\n",
      "Iteration 98, loss = 0.78694370\n",
      "Iteration 99, loss = 0.78410749\n",
      "Iteration 100, loss = 0.78128503\n",
      "Iteration 101, loss = 0.77847816\n",
      "Iteration 102, loss = 0.77568702\n",
      "Iteration 103, loss = 0.77291032\n",
      "Iteration 104, loss = 0.77014594\n",
      "Iteration 105, loss = 0.76739155\n",
      "Iteration 106, loss = 0.76464508\n",
      "Iteration 107, loss = 0.76190505\n",
      "Iteration 108, loss = 0.75917058\n",
      "Iteration 109, loss = 0.75644126\n",
      "Iteration 110, loss = 0.75371698\n",
      "Iteration 111, loss = 0.75099775\n",
      "Iteration 112, loss = 0.74828366\n",
      "Iteration 113, loss = 0.74557492\n",
      "Iteration 114, loss = 0.74287186\n",
      "Iteration 115, loss = 0.74017506\n",
      "Iteration 116, loss = 0.73748528\n",
      "Iteration 117, loss = 0.73480334\n",
      "Iteration 118, loss = 0.73213004\n",
      "Iteration 119, loss = 0.72946595\n",
      "Iteration 120, loss = 0.72681135\n",
      "Iteration 121, loss = 0.72416618\n",
      "Iteration 122, loss = 0.72153016\n",
      "Iteration 123, loss = 0.71890331\n",
      "Iteration 124, loss = 0.71628763\n",
      "Iteration 125, loss = 0.71367965\n",
      "Iteration 126, loss = 0.71107921\n",
      "Iteration 127, loss = 0.70848637\n",
      "Iteration 128, loss = 0.70590133\n",
      "Iteration 129, loss = 0.70332439\n",
      "Iteration 130, loss = 0.70075586\n",
      "Iteration 131, loss = 0.69819604\n",
      "Iteration 132, loss = 0.69564517\n",
      "Iteration 133, loss = 0.69310347\n",
      "Iteration 134, loss = 0.69057108\n",
      "Iteration 135, loss = 0.68804811\n",
      "Iteration 136, loss = 0.68553461\n",
      "Iteration 137, loss = 0.68303058\n",
      "Iteration 138, loss = 0.68053597\n",
      "Iteration 139, loss = 0.67805205\n",
      "Iteration 140, loss = 0.67557780\n",
      "Iteration 141, loss = 0.67311301\n",
      "Iteration 142, loss = 0.67065764\n",
      "Iteration 143, loss = 0.66821168\n",
      "Iteration 144, loss = 0.66577518\n",
      "Iteration 145, loss = 0.66334918\n",
      "Iteration 146, loss = 0.66093465\n",
      "Iteration 147, loss = 0.65853000\n",
      "Iteration 148, loss = 0.65613525\n",
      "Iteration 149, loss = 0.65375042\n",
      "Iteration 150, loss = 0.65137555\n",
      "Iteration 151, loss = 0.64901066\n",
      "Iteration 152, loss = 0.64665577\n",
      "Iteration 153, loss = 0.64431091\n",
      "Iteration 154, loss = 0.64197611\n",
      "Iteration 155, loss = 0.63965140\n",
      "Iteration 156, loss = 0.63733681\n",
      "Iteration 157, loss = 0.63503237\n",
      "Iteration 158, loss = 0.63273809\n",
      "Iteration 159, loss = 0.63045400\n",
      "Iteration 160, loss = 0.62818011\n",
      "Iteration 161, loss = 0.62591646\n",
      "Iteration 162, loss = 0.62366305\n",
      "Iteration 163, loss = 0.62141991\n",
      "Iteration 164, loss = 0.61918705\n",
      "Iteration 165, loss = 0.61696460\n",
      "Iteration 166, loss = 0.61475288\n",
      "Iteration 167, loss = 0.61255136\n",
      "Iteration 168, loss = 0.61036012\n",
      "Iteration 169, loss = 0.60817920\n",
      "Iteration 170, loss = 0.60600865\n",
      "Iteration 171, loss = 0.60384850\n",
      "Iteration 172, loss = 0.60169924\n",
      "Iteration 173, loss = 0.59956072\n",
      "Iteration 174, loss = 0.59743275\n",
      "Iteration 175, loss = 0.59531526\n",
      "Iteration 176, loss = 0.59320797\n",
      "Iteration 177, loss = 0.59111106\n",
      "Iteration 178, loss = 0.58902463\n",
      "Iteration 179, loss = 0.58694855\n",
      "Iteration 180, loss = 0.58488279\n",
      "Iteration 181, loss = 0.58282737\n",
      "Iteration 182, loss = 0.58078226\n",
      "Iteration 183, loss = 0.57874745\n",
      "Iteration 184, loss = 0.57672295\n",
      "Iteration 185, loss = 0.57470875\n",
      "Iteration 186, loss = 0.57270507\n",
      "Iteration 187, loss = 0.57071151\n",
      "Iteration 188, loss = 0.56872805\n",
      "Iteration 189, loss = 0.56675495\n",
      "Iteration 190, loss = 0.56479217\n",
      "Iteration 191, loss = 0.56283955\n",
      "Iteration 192, loss = 0.56089704\n",
      "Iteration 193, loss = 0.55896463\n",
      "Iteration 194, loss = 0.55704230\n",
      "Iteration 195, loss = 0.55513028\n",
      "Iteration 196, loss = 0.55322830\n",
      "Iteration 197, loss = 0.55133624\n",
      "Iteration 198, loss = 0.54945410\n",
      "Iteration 199, loss = 0.54758223\n",
      "Iteration 200, loss = 0.54572030\n"
     ]
    },
    {
     "name": "stderr",
     "output_type": "stream",
     "text": [
      "C:\\Users\\SREENITHI\\anaconda3\\lib\\site-packages\\sklearn\\neural_network\\_multilayer_perceptron.py:692: ConvergenceWarning: Stochastic Optimizer: Maximum iterations (200) reached and the optimization hasn't converged yet.\n",
      "  warnings.warn(\n"
     ]
    },
    {
     "data": {
      "text/plain": [
       "MLPClassifier(hidden_layer_sizes=(9, 12), random_state=5, verbose=True)"
      ]
     },
     "execution_count": 63,
     "metadata": {},
     "output_type": "execute_result"
    }
   ],
   "source": [
    "clf2.fit(X_train,y_train)"
   ]
  },
  {
   "cell_type": "code",
   "execution_count": 64,
   "id": "10f772b0",
   "metadata": {},
   "outputs": [
    {
     "data": {
      "text/plain": [
       "0.8571428571428571"
      ]
     },
     "execution_count": 64,
     "metadata": {},
     "output_type": "execute_result"
    }
   ],
   "source": [
    "ypred2=clf2.predict(X_test)\n",
    "accuracy_score(y_test,ypred2)"
   ]
  },
  {
   "cell_type": "code",
   "execution_count": 65,
   "id": "bfc4ddd2",
   "metadata": {},
   "outputs": [
    {
     "data": {
      "text/plain": [
       "[<matplotlib.lines.Line2D at 0x1a24fd781c0>]"
      ]
     },
     "execution_count": 65,
     "metadata": {},
     "output_type": "execute_result"
    },
    {
     "data": {
      "image/png": "[encoded data removed]",
      "text/plain": [
       "<Figure size 432x288 with 1 Axes>"
      ]
     },
     "metadata": {
      "needs_background": "light"
     },
     "output_type": "display_data"
    }
   ],
   "source": [
    "plt.plot(clf2.loss_curve_)"
   ]
  },
  {
   "cell_type": "code",
   "execution_count": 28,
   "id": "c74b5443",
   "metadata": {},
   "outputs": [],
   "source": [
    "clf3 = MLPClassifier(hidden_layer_sizes=(10,10,10,10), random_state=5, verbose=True, learning_rate_init=0.01, early_stopping = True, validation_fraction = 0.3)"
   ]
  },
  {
   "cell_type": "code",
   "execution_count": 29,
   "id": "d54b5ac7",
   "metadata": {},
   "outputs": [
    {
     "name": "stdout",
     "output_type": "stream",
     "text": [
      "Iteration 1, loss = 3.89667972\n",
      "Validation score: 0.372549\n",
      "Iteration 2, loss = 2.28488794\n",
      "Validation score: 0.372549\n",
      "Iteration 3, loss = 1.27848905\n",
      "Validation score: 0.274510\n",
      "Iteration 4, loss = 1.07577316\n",
      "Validation score: 0.313725\n",
      "Iteration 5, loss = 1.03950445\n",
      "Validation score: 0.549020\n",
      "Iteration 6, loss = 1.02238534\n",
      "Validation score: 0.607843\n",
      "Iteration 7, loss = 1.01730439\n",
      "Validation score: 0.627451\n",
      "Iteration 8, loss = 1.01250532\n",
      "Validation score: 0.627451\n",
      "Iteration 9, loss = 1.00655440\n",
      "Validation score: 0.607843\n",
      "Iteration 10, loss = 0.99569313\n",
      "Validation score: 0.607843\n",
      "Iteration 11, loss = 0.97456942\n",
      "Validation score: 0.607843\n",
      "Iteration 12, loss = 0.95349607\n",
      "Validation score: 0.607843\n",
      "Iteration 13, loss = 0.93548304\n",
      "Validation score: 0.627451\n",
      "Iteration 14, loss = 0.92207185\n",
      "Validation score: 0.627451\n",
      "Iteration 15, loss = 0.90962976\n",
      "Validation score: 0.607843\n",
      "Iteration 16, loss = 0.89809746\n",
      "Validation score: 0.607843\n",
      "Iteration 17, loss = 0.88438798\n",
      "Validation score: 0.588235\n",
      "Iteration 18, loss = 0.87040072\n",
      "Validation score: 0.588235\n",
      "Validation score did not improve more than tol=0.000100 for 10 consecutive epochs. Stopping.\n"
     ]
    },
    {
     "data": {
      "text/plain": [
       "MLPClassifier(early_stopping=True, hidden_layer_sizes=(10, 10, 10, 10),\n",
       "              learning_rate_init=0.01, random_state=5, validation_fraction=0.3,\n",
       "              verbose=True)"
      ]
     },
     "execution_count": 29,
     "metadata": {},
     "output_type": "execute_result"
    }
   ],
   "source": [
    "clf3.fit(X_train,y_train)"
   ]
  },
  {
   "cell_type": "code",
   "execution_count": 30,
   "id": "a5fccca1",
   "metadata": {},
   "outputs": [
    {
     "data": {
      "text/plain": [
       "[<matplotlib.lines.Line2D at 0x1a24fd0d310>]"
      ]
     },
     "execution_count": 30,
     "metadata": {},
     "output_type": "execute_result"
    },
    {
     "data": {
      "image/png": "[encoded data removed]",
      "text/plain": [
       "<Figure size 432x288 with 1 Axes>"
      ]
     },
     "metadata": {
      "needs_background": "light"
     },
     "output_type": "display_data"
    }
   ],
   "source": [
    "plt.plot(clf3.loss_curve_)"
   ]
  },
  {
   "cell_type": "code",
   "execution_count": 31,
   "id": "822ebfef",
   "metadata": {},
   "outputs": [],
   "source": [
    "ypred3=clf3.predict(X_test)"
   ]
  },
  {
   "cell_type": "code",
   "execution_count": 32,
   "id": "633d010b",
   "metadata": {},
   "outputs": [
    {
     "data": {
      "text/plain": [
       "0.6904761904761905"
      ]
     },
     "execution_count": 32,
     "metadata": {},
     "output_type": "execute_result"
    }
   ],
   "source": [
    "accuracy_score(y_test,ypred3)"
   ]
  },
  {
   "cell_type": "code",
   "execution_count": null,
   "id": "f27d6d36",
   "metadata": {},
   "outputs": [],
   "source": []
  }
 ],
 "metadata": {
  "kernelspec": {
   "display_name": "Python 3 (ipykernel)",
   "language": "python",
   "name": "python3"
  },
  "language_info": {
   "codemirror_mode": {
    "name": "ipython",
    "version": 3
   },
   "file_extension": ".py",
   "mimetype": "text/x-python",
   "name": "python",
   "nbconvert_exporter": "python",
   "pygments_lexer": "ipython3",
   "version": "3.9.12"
  }
 },
 "nbformat": 4,
 "nbformat_minor": 5
}
